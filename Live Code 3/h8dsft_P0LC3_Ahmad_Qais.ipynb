{
  "nbformat": 4,
  "nbformat_minor": 0,
  "metadata": {
    "colab": {
      "provenance": [],
      "collapsed_sections": [
        "b-in54howXCa"
      ],
      "toc_visible": true
    },
    "kernelspec": {
      "name": "python3",
      "display_name": "Python 3"
    },
    "language_info": {
      "name": "python"
    }
  },
  "cells": [
    {
      "cell_type": "markdown",
      "source": [
        "#Perkenalan"
      ],
      "metadata": {
        "id": "b-in54howXCa"
      }
    },
    {
      "cell_type": "code",
      "source": [
        "'''\n",
        "Nama : Ahmad Qais\n",
        "Batch : RMT - 026\n",
        "Objecktif :\n",
        "\n",
        "1. Mengambil data dari SQL database.\n",
        "2. Menerapkan konsep central tendency.\n",
        "3. enerapkan konsep distribusi data.\n",
        "4. Menerapkan konsep extreme value analysis.\n",
        "5. Konsep statistik deskriptif.\n",
        "6. Membuat API sederhana dengan FastAPI\n",
        "'''"
      ],
      "metadata": {
        "id": "t2jpy0p11HKs"
      },
      "execution_count": null,
      "outputs": []
    },
    {
      "cell_type": "markdown",
      "source": [
        "# Setup"
      ],
      "metadata": {
        "id": "TOF14D4-vuoT"
      }
    },
    {
      "cell_type": "code",
      "execution_count": 1,
      "metadata": {
        "id": "WoDwAaxh0Whw",
        "colab": {
          "base_uri": "https://localhost:8080/"
        },
        "outputId": "aa720676-37d6-40fc-d4ca-130846c2892c"
      },
      "outputs": [
        {
          "output_type": "stream",
          "name": "stdout",
          "text": [
            "Authenticated\n"
          ]
        }
      ],
      "source": [
        "from google.colab import auth\n",
        "from google.cloud import bigquery\n",
        "auth.authenticate_user()\n",
        "print('Authenticated')\n",
        "\n",
        "project_id = \"river-nation-405906\"\n",
        "client = bigquery.Client(project=project_id)"
      ]
    },
    {
      "cell_type": "markdown",
      "source": [
        "* Pilih HANYA kolom trip_seconds\n",
        "* Pilih data dengan value tipe paymentnya bukan 'Unknown' (informasi tipe payment ada di kolom payment_type)\n",
        "* Batasi data yang diambil sebanyak 5000 entry\n",
        "\n",
        "\n"
      ],
      "metadata": {
        "id": "AU25FKi8vkSQ"
      }
    },
    {
      "cell_type": "code",
      "source": [
        "# Cek nilai unik dari payment_type. Karena tidak ada\n",
        "import pandas as pd\n",
        "\n",
        "df = client.query('''SELECT *\n",
        "FROM `bigquery-public-data.chicago_taxi_trips.taxi_trips`\n",
        "# WHERE payment_type <> Unknown\n",
        "LIMIT 5000\n",
        "'''\n",
        ").to_dataframe()\n",
        "\n",
        "df\n",
        "\n",
        "unique = df['payment_type'].unique()\n",
        "unique\n",
        "\n"
      ],
      "metadata": {
        "id": "f-egQC8b0e2F",
        "colab": {
          "base_uri": "https://localhost:8080/"
        },
        "outputId": "6edb18d2-4d9b-4755-9da9-77cad26da6ff"
      },
      "execution_count": 40,
      "outputs": [
        {
          "output_type": "execute_result",
          "data": {
            "text/plain": [
              "array(['Cash', 'Credit Card'], dtype=object)"
            ]
          },
          "metadata": {},
          "execution_count": 40
        }
      ]
    },
    {
      "cell_type": "markdown",
      "source": [
        "KNOWLEDGE: Tidak ada ***value Unknown*** di dalam data. Jadi WHERE payment_type <> Unknown DIBUAT MENJADI COMMENT"
      ],
      "metadata": {
        "id": "pBy4mWzvvQYj"
      }
    },
    {
      "cell_type": "code",
      "source": [
        "# Cek nilai unik dari payment_type. Karena tidak ada\n",
        "data = client.query('''SELECT trip_seconds\n",
        "FROM `bigquery-public-data.chicago_taxi_trips.taxi_trips`\n",
        "# WHERE payment_type <> Unknown\n",
        "LIMIT 5000\n",
        "'''\n",
        ").to_dataframe()\n",
        "\n",
        "data\n",
        "\n"
      ],
      "metadata": {
        "colab": {
          "base_uri": "https://localhost:8080/",
          "height": 419
        },
        "id": "OH_GRpEC2e66",
        "outputId": "ee318184-e373-46ca-ff83-9b783e8cd16f"
      },
      "execution_count": 41,
      "outputs": [
        {
          "output_type": "execute_result",
          "data": {
            "text/plain": [
              "      trip_seconds\n",
              "0              274\n",
              "1              840\n",
              "2                3\n",
              "3             1320\n",
              "4              283\n",
              "...            ...\n",
              "4995           540\n",
              "4996           540\n",
              "4997           360\n",
              "4998           900\n",
              "4999           960\n",
              "\n",
              "[5000 rows x 1 columns]"
            ],
            "text/html": [
              "\n",
              "  <div id=\"df-0b46e838-68a3-4b27-9229-8e539f71f372\" class=\"colab-df-container\">\n",
              "    <div>\n",
              "<style scoped>\n",
              "    .dataframe tbody tr th:only-of-type {\n",
              "        vertical-align: middle;\n",
              "    }\n",
              "\n",
              "    .dataframe tbody tr th {\n",
              "        vertical-align: top;\n",
              "    }\n",
              "\n",
              "    .dataframe thead th {\n",
              "        text-align: right;\n",
              "    }\n",
              "</style>\n",
              "<table border=\"1\" class=\"dataframe\">\n",
              "  <thead>\n",
              "    <tr style=\"text-align: right;\">\n",
              "      <th></th>\n",
              "      <th>trip_seconds</th>\n",
              "    </tr>\n",
              "  </thead>\n",
              "  <tbody>\n",
              "    <tr>\n",
              "      <th>0</th>\n",
              "      <td>274</td>\n",
              "    </tr>\n",
              "    <tr>\n",
              "      <th>1</th>\n",
              "      <td>840</td>\n",
              "    </tr>\n",
              "    <tr>\n",
              "      <th>2</th>\n",
              "      <td>3</td>\n",
              "    </tr>\n",
              "    <tr>\n",
              "      <th>3</th>\n",
              "      <td>1320</td>\n",
              "    </tr>\n",
              "    <tr>\n",
              "      <th>4</th>\n",
              "      <td>283</td>\n",
              "    </tr>\n",
              "    <tr>\n",
              "      <th>...</th>\n",
              "      <td>...</td>\n",
              "    </tr>\n",
              "    <tr>\n",
              "      <th>4995</th>\n",
              "      <td>540</td>\n",
              "    </tr>\n",
              "    <tr>\n",
              "      <th>4996</th>\n",
              "      <td>540</td>\n",
              "    </tr>\n",
              "    <tr>\n",
              "      <th>4997</th>\n",
              "      <td>360</td>\n",
              "    </tr>\n",
              "    <tr>\n",
              "      <th>4998</th>\n",
              "      <td>900</td>\n",
              "    </tr>\n",
              "    <tr>\n",
              "      <th>4999</th>\n",
              "      <td>960</td>\n",
              "    </tr>\n",
              "  </tbody>\n",
              "</table>\n",
              "<p>5000 rows × 1 columns</p>\n",
              "</div>\n",
              "    <div class=\"colab-df-buttons\">\n",
              "\n",
              "  <div class=\"colab-df-container\">\n",
              "    <button class=\"colab-df-convert\" onclick=\"convertToInteractive('df-0b46e838-68a3-4b27-9229-8e539f71f372')\"\n",
              "            title=\"Convert this dataframe to an interactive table.\"\n",
              "            style=\"display:none;\">\n",
              "\n",
              "  <svg xmlns=\"http://www.w3.org/2000/svg\" height=\"24px\" viewBox=\"0 -960 960 960\">\n",
              "    <path d=\"M120-120v-720h720v720H120Zm60-500h600v-160H180v160Zm220 220h160v-160H400v160Zm0 220h160v-160H400v160ZM180-400h160v-160H180v160Zm440 0h160v-160H620v160ZM180-180h160v-160H180v160Zm440 0h160v-160H620v160Z\"/>\n",
              "  </svg>\n",
              "    </button>\n",
              "\n",
              "  <style>\n",
              "    .colab-df-container {\n",
              "      display:flex;\n",
              "      gap: 12px;\n",
              "    }\n",
              "\n",
              "    .colab-df-convert {\n",
              "      background-color: #E8F0FE;\n",
              "      border: none;\n",
              "      border-radius: 50%;\n",
              "      cursor: pointer;\n",
              "      display: none;\n",
              "      fill: #1967D2;\n",
              "      height: 32px;\n",
              "      padding: 0 0 0 0;\n",
              "      width: 32px;\n",
              "    }\n",
              "\n",
              "    .colab-df-convert:hover {\n",
              "      background-color: #E2EBFA;\n",
              "      box-shadow: 0px 1px 2px rgba(60, 64, 67, 0.3), 0px 1px 3px 1px rgba(60, 64, 67, 0.15);\n",
              "      fill: #174EA6;\n",
              "    }\n",
              "\n",
              "    .colab-df-buttons div {\n",
              "      margin-bottom: 4px;\n",
              "    }\n",
              "\n",
              "    [theme=dark] .colab-df-convert {\n",
              "      background-color: #3B4455;\n",
              "      fill: #D2E3FC;\n",
              "    }\n",
              "\n",
              "    [theme=dark] .colab-df-convert:hover {\n",
              "      background-color: #434B5C;\n",
              "      box-shadow: 0px 1px 3px 1px rgba(0, 0, 0, 0.15);\n",
              "      filter: drop-shadow(0px 1px 2px rgba(0, 0, 0, 0.3));\n",
              "      fill: #FFFFFF;\n",
              "    }\n",
              "  </style>\n",
              "\n",
              "    <script>\n",
              "      const buttonEl =\n",
              "        document.querySelector('#df-0b46e838-68a3-4b27-9229-8e539f71f372 button.colab-df-convert');\n",
              "      buttonEl.style.display =\n",
              "        google.colab.kernel.accessAllowed ? 'block' : 'none';\n",
              "\n",
              "      async function convertToInteractive(key) {\n",
              "        const element = document.querySelector('#df-0b46e838-68a3-4b27-9229-8e539f71f372');\n",
              "        const dataTable =\n",
              "          await google.colab.kernel.invokeFunction('convertToInteractive',\n",
              "                                                    [key], {});\n",
              "        if (!dataTable) return;\n",
              "\n",
              "        const docLinkHtml = 'Like what you see? Visit the ' +\n",
              "          '<a target=\"_blank\" href=https://colab.research.google.com/notebooks/data_table.ipynb>data table notebook</a>'\n",
              "          + ' to learn more about interactive tables.';\n",
              "        element.innerHTML = '';\n",
              "        dataTable['output_type'] = 'display_data';\n",
              "        await google.colab.output.renderOutput(dataTable, element);\n",
              "        const docLink = document.createElement('div');\n",
              "        docLink.innerHTML = docLinkHtml;\n",
              "        element.appendChild(docLink);\n",
              "      }\n",
              "    </script>\n",
              "  </div>\n",
              "\n",
              "\n",
              "<div id=\"df-84bcf954-b38a-4630-9e62-99cf1035569b\">\n",
              "  <button class=\"colab-df-quickchart\" onclick=\"quickchart('df-84bcf954-b38a-4630-9e62-99cf1035569b')\"\n",
              "            title=\"Suggest charts\"\n",
              "            style=\"display:none;\">\n",
              "\n",
              "<svg xmlns=\"http://www.w3.org/2000/svg\" height=\"24px\"viewBox=\"0 0 24 24\"\n",
              "     width=\"24px\">\n",
              "    <g>\n",
              "        <path d=\"M19 3H5c-1.1 0-2 .9-2 2v14c0 1.1.9 2 2 2h14c1.1 0 2-.9 2-2V5c0-1.1-.9-2-2-2zM9 17H7v-7h2v7zm4 0h-2V7h2v10zm4 0h-2v-4h2v4z\"/>\n",
              "    </g>\n",
              "</svg>\n",
              "  </button>\n",
              "\n",
              "<style>\n",
              "  .colab-df-quickchart {\n",
              "      --bg-color: #E8F0FE;\n",
              "      --fill-color: #1967D2;\n",
              "      --hover-bg-color: #E2EBFA;\n",
              "      --hover-fill-color: #174EA6;\n",
              "      --disabled-fill-color: #AAA;\n",
              "      --disabled-bg-color: #DDD;\n",
              "  }\n",
              "\n",
              "  [theme=dark] .colab-df-quickchart {\n",
              "      --bg-color: #3B4455;\n",
              "      --fill-color: #D2E3FC;\n",
              "      --hover-bg-color: #434B5C;\n",
              "      --hover-fill-color: #FFFFFF;\n",
              "      --disabled-bg-color: #3B4455;\n",
              "      --disabled-fill-color: #666;\n",
              "  }\n",
              "\n",
              "  .colab-df-quickchart {\n",
              "    background-color: var(--bg-color);\n",
              "    border: none;\n",
              "    border-radius: 50%;\n",
              "    cursor: pointer;\n",
              "    display: none;\n",
              "    fill: var(--fill-color);\n",
              "    height: 32px;\n",
              "    padding: 0;\n",
              "    width: 32px;\n",
              "  }\n",
              "\n",
              "  .colab-df-quickchart:hover {\n",
              "    background-color: var(--hover-bg-color);\n",
              "    box-shadow: 0 1px 2px rgba(60, 64, 67, 0.3), 0 1px 3px 1px rgba(60, 64, 67, 0.15);\n",
              "    fill: var(--button-hover-fill-color);\n",
              "  }\n",
              "\n",
              "  .colab-df-quickchart-complete:disabled,\n",
              "  .colab-df-quickchart-complete:disabled:hover {\n",
              "    background-color: var(--disabled-bg-color);\n",
              "    fill: var(--disabled-fill-color);\n",
              "    box-shadow: none;\n",
              "  }\n",
              "\n",
              "  .colab-df-spinner {\n",
              "    border: 2px solid var(--fill-color);\n",
              "    border-color: transparent;\n",
              "    border-bottom-color: var(--fill-color);\n",
              "    animation:\n",
              "      spin 1s steps(1) infinite;\n",
              "  }\n",
              "\n",
              "  @keyframes spin {\n",
              "    0% {\n",
              "      border-color: transparent;\n",
              "      border-bottom-color: var(--fill-color);\n",
              "      border-left-color: var(--fill-color);\n",
              "    }\n",
              "    20% {\n",
              "      border-color: transparent;\n",
              "      border-left-color: var(--fill-color);\n",
              "      border-top-color: var(--fill-color);\n",
              "    }\n",
              "    30% {\n",
              "      border-color: transparent;\n",
              "      border-left-color: var(--fill-color);\n",
              "      border-top-color: var(--fill-color);\n",
              "      border-right-color: var(--fill-color);\n",
              "    }\n",
              "    40% {\n",
              "      border-color: transparent;\n",
              "      border-right-color: var(--fill-color);\n",
              "      border-top-color: var(--fill-color);\n",
              "    }\n",
              "    60% {\n",
              "      border-color: transparent;\n",
              "      border-right-color: var(--fill-color);\n",
              "    }\n",
              "    80% {\n",
              "      border-color: transparent;\n",
              "      border-right-color: var(--fill-color);\n",
              "      border-bottom-color: var(--fill-color);\n",
              "    }\n",
              "    90% {\n",
              "      border-color: transparent;\n",
              "      border-bottom-color: var(--fill-color);\n",
              "    }\n",
              "  }\n",
              "</style>\n",
              "\n",
              "  <script>\n",
              "    async function quickchart(key) {\n",
              "      const quickchartButtonEl =\n",
              "        document.querySelector('#' + key + ' button');\n",
              "      quickchartButtonEl.disabled = true;  // To prevent multiple clicks.\n",
              "      quickchartButtonEl.classList.add('colab-df-spinner');\n",
              "      try {\n",
              "        const charts = await google.colab.kernel.invokeFunction(\n",
              "            'suggestCharts', [key], {});\n",
              "      } catch (error) {\n",
              "        console.error('Error during call to suggestCharts:', error);\n",
              "      }\n",
              "      quickchartButtonEl.classList.remove('colab-df-spinner');\n",
              "      quickchartButtonEl.classList.add('colab-df-quickchart-complete');\n",
              "    }\n",
              "    (() => {\n",
              "      let quickchartButtonEl =\n",
              "        document.querySelector('#df-84bcf954-b38a-4630-9e62-99cf1035569b button');\n",
              "      quickchartButtonEl.style.display =\n",
              "        google.colab.kernel.accessAllowed ? 'block' : 'none';\n",
              "    })();\n",
              "  </script>\n",
              "</div>\n",
              "    </div>\n",
              "  </div>\n"
            ]
          },
          "metadata": {},
          "execution_count": 41
        }
      ]
    },
    {
      "cell_type": "markdown",
      "source": [
        "# Soal"
      ],
      "metadata": {
        "id": "bkkkDT8jvxTq"
      }
    },
    {
      "cell_type": "markdown",
      "source": [
        "## 1a.\n",
        "Lakukan perhitungan central tendency (mean, median, modus) terhadap data sebelum dideteksi adanya anomali."
      ],
      "metadata": {
        "id": "ZR6cMorswwsV"
      }
    },
    {
      "cell_type": "code",
      "source": [
        "# Menghitung mean dengan membuat desimal 2 angka di belakang koma\n",
        "mean_trip_seconds = '{:.2f}'.format(data['trip_seconds'].mean())\n",
        "print(f\"nilai mean adalah: {mean_trip_seconds}\")\n"
      ],
      "metadata": {
        "colab": {
          "base_uri": "https://localhost:8080/"
        },
        "id": "Tel4j27h24vZ",
        "outputId": "92324773-984a-4c38-c7d2-c8a7bd7d75b2"
      },
      "execution_count": 56,
      "outputs": [
        {
          "output_type": "stream",
          "name": "stdout",
          "text": [
            "nilai mean adalah: 973.80\n"
          ]
        }
      ]
    },
    {
      "cell_type": "code",
      "source": [
        "# Menghitung median dengan membuat desimal 1 angka di belakang koma\n",
        "median_trip_seconds = '{:.1f}'.format(data['trip_seconds'].median())\n",
        "print(f\"nilai median adalah: {median_trip_seconds}\")\n"
      ],
      "metadata": {
        "colab": {
          "base_uri": "https://localhost:8080/"
        },
        "id": "E8OXiTGT3i9H",
        "outputId": "5eae0d02-7bf9-42d3-b120-1d665404337a"
      },
      "execution_count": 57,
      "outputs": [
        {
          "output_type": "stream",
          "name": "stdout",
          "text": [
            "nilai median adalah: 780.0\n"
          ]
        }
      ]
    },
    {
      "cell_type": "code",
      "source": [
        "# Menghitung mode\n",
        "mode_trip_seconds = data['trip_seconds'].mode().values[0]\n",
        "print(f\"modus dari data: {mode_trip_seconds}\")\n"
      ],
      "metadata": {
        "colab": {
          "base_uri": "https://localhost:8080/"
        },
        "id": "rgf-9E-ixI2U",
        "outputId": "34c41b21-afb6-4efa-f31a-7a5ac5094ba9"
      },
      "execution_count": 58,
      "outputs": [
        {
          "output_type": "stream",
          "name": "stdout",
          "text": [
            "modus dari data: 600\n"
          ]
        }
      ]
    },
    {
      "cell_type": "markdown",
      "source": [
        "## 2a.\n",
        "Cek skewness data untuk mengetahui apakah data terdistribusi normal atau tidak."
      ],
      "metadata": {
        "id": "Opat7xgUGYNh"
      }
    },
    {
      "cell_type": "code",
      "source": [
        "# Menghitung Skewness\n",
        "skewness_trip_seconds = '{:.2f}'.format(data['trip_seconds'].skew())\n",
        "print(f\"skewness dari data ini adalah: {skewness_trip_seconds}\")\n"
      ],
      "metadata": {
        "colab": {
          "base_uri": "https://localhost:8080/"
        },
        "id": "r-8ZnCzkzXQF",
        "outputId": "b7856d7b-e7c5-4bc3-df0e-400aec6f5428"
      },
      "execution_count": 61,
      "outputs": [
        {
          "output_type": "stream",
          "name": "stdout",
          "text": [
            "skewness dari data ini adalah: 13.12\n"
          ]
        }
      ]
    },
    {
      "cell_type": "markdown",
      "source": [
        "## 3a.\n",
        "Lakukan pengolahan data dengan menggunakan extreme value analysis."
      ],
      "metadata": {
        "id": "P9mIgPg9Gh1R"
      }
    },
    {
      "cell_type": "code",
      "source": [
        "# Extreme Value Analysis Tukey’s Rule\n",
        "\n",
        "q1 = data['trip_seconds'].quantile(0.25)\n",
        "q2 = data['trip_seconds'].quantile(0.5)\n",
        "q3 = data['trip_seconds'].quantile(0.75)\n",
        "\n",
        "iqr = q3 - q1\n",
        "\n",
        "up_bound = q3 + 1.5*iqr\n",
        "low_bound = q1 - 1.5*iqr\n",
        "\n",
        "print(f'Upper Boundary: {up_bound:.2f}' )\n",
        "print(f'Lower Boundary: {low_bound:.2f}')"
      ],
      "metadata": {
        "colab": {
          "base_uri": "https://localhost:8080/"
        },
        "id": "DLQeOryN5adc",
        "outputId": "bf8cc296-09ec-4c11-d6ae-c1022da6530f"
      },
      "execution_count": 68,
      "outputs": [
        {
          "output_type": "stream",
          "name": "stdout",
          "text": [
            "Upper Boundary: 2665.00\n",
            "Lower Boundary: -927.00\n"
          ]
        }
      ]
    },
    {
      "cell_type": "markdown",
      "source": [
        "## 4a.\n",
        "Buat variabel baru yang menyimpan data yang sudah dibuang data anomalinya."
      ],
      "metadata": {
        "id": "HhgDA3ywGts3"
      }
    },
    {
      "cell_type": "code",
      "source": [
        "new_data = data[(data['trip_seconds'] >= low_bound) & (data['trip_seconds'] <= up_bound)]\n",
        "\n",
        "#                  up_bound = q3 + 1.5*iqr\n",
        "# low_bound = q1 - 1.5*iqr\n",
        "\n",
        "# print(f'Upper Boundary: {up_bound:.2f}' )\n",
        "# print(f'Lower Boundary: {low_bound:.2f}')\n",
        "print(f\"berikut adalah data terbaru setelah dibuang outliernya: \\n \\n {new_data}\")"
      ],
      "metadata": {
        "colab": {
          "base_uri": "https://localhost:8080/"
        },
        "id": "3l_ON3e976bi",
        "outputId": "afeea715-41da-434e-b0ef-93e1061121f6"
      },
      "execution_count": 76,
      "outputs": [
        {
          "output_type": "stream",
          "name": "stdout",
          "text": [
            "berikut adalah data terbaru setelah dibuang outliernya: \n",
            " \n",
            "       trip_seconds\n",
            "0              274\n",
            "1              840\n",
            "2                3\n",
            "3             1320\n",
            "4              283\n",
            "...            ...\n",
            "4995           540\n",
            "4996           540\n",
            "4997           360\n",
            "4998           900\n",
            "4999           960\n",
            "\n",
            "[4796 rows x 1 columns]\n"
          ]
        }
      ]
    },
    {
      "cell_type": "code",
      "source": [
        "# Menghitung Skewness Setelah Anomali (outliers) dihapus\n",
        "skewness_new_data = '{:.2f}'.format(new_data['trip_seconds'].skew())\n",
        "print(f\"skewness dari data baru ini adalah: {skewness_new_data} \\ndimana sebelumnya adalah {skewness_trip_seconds}\")\n"
      ],
      "metadata": {
        "colab": {
          "base_uri": "https://localhost:8080/"
        },
        "id": "eqh1DX3E-hG4",
        "outputId": "4aa803dd-8036-4f31-ce4b-bc1333ebe860"
      },
      "execution_count": 83,
      "outputs": [
        {
          "output_type": "stream",
          "name": "stdout",
          "text": [
            "skewness dari data baru ini adalah: 0.77 \n",
            "dimana sebelumnya adalah 13.12\n"
          ]
        }
      ]
    },
    {
      "cell_type": "markdown",
      "source": [
        "## 5a.\n",
        "Simpan data yang sudah dibuang anomalinya ke file csv dengan nama file <nama-student>.csv"
      ],
      "metadata": {
        "id": "xirrfNJMG90K"
      }
    },
    {
      "cell_type": "code",
      "source": [
        "new_data.to_csv('Ahmad_Qais.csv')"
      ],
      "metadata": {
        "id": "FpkCKkka_ArU"
      },
      "execution_count": 82,
      "outputs": []
    },
    {
      "cell_type": "markdown",
      "source": [
        "## 1-3b.\n",
        "Please refer to file Ahmad-Qais.py\n"
      ],
      "metadata": {
        "id": "FV7-qEppHVRW"
      }
    },
    {
      "cell_type": "markdown",
      "source": [
        "## 1c.\n",
        "Berapa rata-rata, median, dan modus dari data tersebut sebelum dihilangkan outliernya? Bagaimana kecerendungan pemusatan datanya? jelaskan jawabanmu!"
      ],
      "metadata": {
        "id": "xHuVmXikElve"
      }
    },
    {
      "cell_type": "markdown",
      "source": [
        "Jawaban: Sebelum dihilangkan outlier terlihat bahwa skew dari data adalah 13.12. Dimana berdasarkan teori yang dipelajari di Lecture:\n",
        "\n",
        "![image.jpeg](data:image/jpeg;base64,/9j/4AAQSkZJRgABAQAAkACQAAD/4QCSRXhpZgAATU0AKgAAAAgABAEaAAUAAAABAAAAPgEbAAUAAAABAAAARgEoAAMAAAABAAIAAIdpAAQAAAABAAAATgAAAAAAAACQAAAAAQAAAJAAAAABAAOShgAHAAAAEgAAAHigAgAEAAAAAQAAAh6gAwAEAAAAAQAAAFoAAAAAQVNDSUkAAABTY3JlZW5zaG90/+0AOFBob3Rvc2hvcCAzLjAAOEJJTQQEAAAAAAAAOEJJTQQlAAAAAAAQ1B2M2Y8AsgTpgAmY7PhCfv/iAhhJQ0NfUFJPRklMRQABAQAAAghhcHBsBAAAAG1udHJSR0IgWFlaIAfnAAwABAAJAB0AFGFjc3BBUFBMAAAAAEFQUEwAAAAAAAAAAAAAAAAAAAAAAAD21gABAAAAANMtYXBwbIKwziAGVTFYxmSdeiqvByAAAAAAAAAAAAAAAAAAAAAAAAAAAAAAAAAAAAAAAAAACmRlc2MAAAD8AAAALmNwcnQAAAEsAAAAUHd0cHQAAAF8AAAAFHJYWVoAAAGQAAAAFGdYWVoAAAGkAAAAFGJYWVoAAAG4AAAAFHJUUkMAAAHMAAAAEGNoYWQAAAHcAAAALGJUUkMAAAHMAAAAEGdUUkMAAAHMAAAAEG1sdWMAAAAAAAAAAQAAAAxlblVTAAAAEgAAABwAUABIAEwAIAA0ADMAOABQADEAAG1sdWMAAAAAAAAAAQAAAAxlblVTAAAANAAAABwAQwBvAHAAeQByAGkAZwBoAHQAIABBAHAAcABsAGUAIABJAG4AYwAuACwAIAAyADAAMgAzWFlaIAAAAAAAAPbWAAEAAAAA0y1YWVogAAAAAAAAXIAAAC+mAAAA+FhZWiAAAAAAAABsegAAvmIAABBfWFlaIAAAAAAAAC3cAAAR+QAAwdVwYXJhAAAAAAAAAAAAAfYEc2YzMgAAAAAAARkMAAAKg///6DQAAA17AAD+7f//9/D///uUAAAHPQAAjIv/wAARCABaAh4DASIAAhEBAxEB/8QAHwAAAQUBAQEBAQEAAAAAAAAAAAECAwQFBgcICQoL/8QAtRAAAgEDAwIEAwUFBAQAAAF9AQIDAAQRBRIhMUEGE1FhByJxFDKBkaEII0KxwRVS0fAkM2JyggkKFhcYGRolJicoKSo0NTY3ODk6Q0RFRkdISUpTVFVWV1hZWmNkZWZnaGlqc3R1dnd4eXqDhIWGh4iJipKTlJWWl5iZmqKjpKWmp6ipqrKztLW2t7i5usLDxMXGx8jJytLT1NXW19jZ2uHi4+Tl5ufo6erx8vP09fb3+Pn6/8QAHwEAAwEBAQEBAQEBAQAAAAAAAAECAwQFBgcICQoL/8QAtREAAgECBAQDBAcFBAQAAQJ3AAECAxEEBSExBhJBUQdhcRMiMoEIFEKRobHBCSMzUvAVYnLRChYkNOEl8RcYGRomJygpKjU2Nzg5OkNERUZHSElKU1RVVldYWVpjZGVmZ2hpanN0dXZ3eHl6goOEhYaHiImKkpOUlZaXmJmaoqOkpaanqKmqsrO0tba3uLm6wsPExcbHyMnK0tPU1dbX2Nna4uPk5ebn6Onq8vP09fb3+Pn6/9sAQwACAgICAgIDAgIDBQMDAwUGBQUFBQYIBgYGBgYICggICAgICAoKCgoKCgoKDAwMDAwMDg4ODg4PDw8PDw8PDw8P/9sAQwECAgIEBAQHBAQHEAsJCxAQEBAQEBAQEBAQEBAQEBAQEBAQEBAQEBAQEBAQEBAQEBAQEBAQEBAQEBAQEBAQEBAQ/90ABAAi/9oADAMBAAIRAxEAPwD9/KKKKACiiigAooooAKKKKACiiigAooooAKKKKACiiigAooooAKKKKACiiigAooooAKKKKACiiigAooooAKKKKACiiigAooooAKKKKACiiigAooooAKKKKACiiigAooooAKKKKACiiigAooooAKKKKACiiigAooooAKKKKACiiigAooooAKKKKAP/0P38orzn4w+LtT8AfCbxp460W2F3qHh3RdQ1C3hI3B5bW3eVAwyCRuUZAOcdOa/k0sP2vP2lbDx8vxJT4iazLrHniZllvJXtXAff5LWpbyTBnjytgQDgAcV6GCy+VZNp2sB/YjRXM+C9cufE/g7QvEt7bGyuNWsLW7kgPWJ54lkZDn+6Wx+FdNXA1bQAooopAFfM/wC0h8ctb+Ck3wzi0XTrfUB448X6Z4duPtBceTBfFt8sewj5128ZyPUV9MV+fH7fP/H3+z7/ANlQ8P8A85K6MLBSqJMB37TH7UHjXw38X/CP7P8A8EtZ8L6Z4g12C7vNR1TxBc5tdPjtgxWIpG4KyybHwGB7DaASy/dnh0awPD+mDxDPBdar9lh+1zWqlbeS42DzXiViSI2fJUEkgYya/Lj4v/Af4O+JP+Ch/gPTNd8J2N7Z+JvDuqajqcMkZMd5eRGULNKmcM4HcjsCeQK/Vm1treytorO0jEUECLHGijAVFGFA9gBWuJUFCCj2uNmLqvi7wpoV9a6XrmtWWnXl8cW8FxcxwyzE8YjR2DN0PQGvCvj38cNb+EnjD4T+G9J063vofiD4kh0W5ecuGgilAzJFtIBcZ/iyPavzk+JPwqtvh38Yfir4w/aa+C2rfFjwt4wvpruw8TaS5vptK0wg7Lc2wdGgFuhA83chAX5cipvj/wCNPBnhf4Rfsq+LPglc6l8RtD0PxNENHS5ctqN+1tmOO0Y+UhEgkXyFAiyAAADxnopYKPNG2t/u29fzHY/ZW91/QtNv7PStR1K2tb3UCRbQSzIks5XGRGjEM5GRnaDWfrnjXwd4Yubay8S69YaTcXn+oju7qKB5e3yLIwLfhX51/sKWWkfG7XPEn7TPxTv/AO2fi7b3tzpNxptxE0K+FbeJ3SOztreTLIZEyTKeTl0zvExf4u+EculfG638ZfFP4t/s/eJvi/rvijVryI6pDKq29lbQkJFZ2y+ZGYjAo2kgZHQHHFRHALmkm9t/V+thWP341DW9G0l7SLVb+3s3v5VgtlmlSMzSv92OMMRvc9lGSaS81zRdOvrPS9Q1C3trzUSwtYJZUSWcoAWESMQX2gjO0HGea/Fu7+G/xmf/AIJ+62vjLSdU0bxH8HPEh17wuuqhTex6XpxjmjZ3UnIihluBxwPLCjCgY5L9o34i6z8Yvisn7T3gCV30D4BaR4R1n7Oh3CabW7iO9mTP+zbOFlA6bMHHSnDL03ZS7r8rffcLH7n3OvaFZagmk3mo20F9JE0628kyLK0KZ3SBCdxRcHLYwKyH8f8AgSM6er+I9NU6rzZg3kI+08kfufm/ecgj5c9K/OLwhdWfxs/aO/aA+OFnML3QvBHhgeEdFm6ozyW73V6yHoCkm4Z67ZPc14l8Bf2Rfgr44/4J/wA/xB8VaMNR8X6loer3sOqzSyvPZvZPcC1S3G8BI4xEpKAYYls8HAn6nBL3326d9QsftszKqlmOAOST0Arm9B8Z+D/FUtxD4Y12w1eS0OJls7qK4aI+jiNm2/jX45/Fn4r+PNe/YR/Z/wBBlOqapL8R9R0zQ9YOnyD7fqFjH5kT2iTSZ/f3WxBuY/MQwfKswOHf+Atc0Hxx8O/GX7Of7N3ir4Za94a1i1+23XmI9veaQ523Vvcr5rlyy4+c843ZJO0io5fo+Z9+3T5hY/a/XfFXhjwtHDN4m1iz0iO4bZE15cR24d+BtUyMuTyOBWyJ4DALkSKYSu/fkbduM5z0xjnNfkv+0Z8Kde0f9p7XPjH8UPhDf/G/4d6rplpaadDp7/abjQ2gjAuAthuBk8xw0gYYALZ3BsiraeAPDnxn/YQ8S/Dr9jLW9UurU6o//Eq1e4+z3Vt+/juLrRi8gTyYwrZUF3DZIaRg7Gs/qkeWL5t7a9Ff/LzCx+oeh+K/C/icXB8NaxZ6t9lbZN9kuI5/Lf8Auv5bNtPsam8RXGq2nh/U7vQlgfUobWZ7VbpzHbmdUJjErjlY92NxHIGTX5OfAuX9mzQPjr4FsdS+GHiL9nv4kQR3FpY2koZdL1wSpte3e6KsLrbjKsyx5fb87NsA/Uj4k/8AJOvFP/YKvv8A0Q9ZVqHJNJBY5f4LeJ/HPiH4TaL4o+LX9kWviGaKaS+OjXHnaagSVwjRymSQY8sKX/eMA24A4FegaF4n8NeKbeS78M6taavBE5jeSznjuEVx1UtGzAEeh5r8g/Dvwq+I/wAX/wDgmP8ADLwz8Nrc6pc2t2L6/wBJFz9j/tbT7e+uzNZ+cSoXexRhkjlOOcV3n7Nt5+zZp/7Qeh2mm/D7xF8B/iY+mXNomg3cbQabrVvs8xyH2sLgw+WXV/3RYrk7yABvUwi99p6pvby+dwsfo98VvF938Pvhd4x8e2ECXV14b0bUNTihlJEcklnbvMqMV52sUAOOcVifBP4i3XxN+DHhH4oa5DDp0/iDSbfUbiONiIYTLGHYBnJIVfUnp1rM/aW/5Ny+Kv8A2Kmuf+kE1flF8WvFOuf8Mr/so/CS20vU9c0Hx1b2v9r6bpDiK61K30+CB1slkOMCVpNxGR9zOeBUYfDqpFLrf9LgkftP4f8AF/hLxak0vhXW7HWUtmCytZXMVyI2OcBjGzYPB4NO1rxb4V8NSW8PiPWbLSpLxtkC3dxHAZWPGEEjDcfYV+N/h7wR4j8P/Hr4XeNvgJ+z54m+FSWWqQ2HiGSRkaxu9GumWKYzx+a+WiUl92P9o5ZVI6T40/Cq88H/ALRvxB+J/wAdvgzqfxs8D+KI7UaXqGlsbu40W1t4ds8AsFdSoyciTcmNu8Nud8afUo81ubp5X/O3nuOx+w01xb28D3U8ixwxqXZ2YBVUDJYk8AAc5rJ0LxP4a8U28l34Z1a01eCJzG8lnPHcIrjqpaNmAI9DzX5b+K/hvpvxp/YW8O+Ev2StW1Hxn4b0jV4Z5tM1O8+zXt7YWskjXGkyyssXl7HdCitxtRdrMNhNj9m28/Zs0/8AaD0O0034feIvgP8AEx9MubRNBu42g03WrfZ5jkPtYXBh8sur/uixXJ3kACPqa5W76q/Tt31uKx+qGoahYaTZTalqlzFZ2luu+WaZ1jjRR3ZmIAHuTXy/8H/2sPBPxv8Aht4l8ceEfJt73QG1NBp811DLPIunoGE22Jtwik3KQcdCOeRX0f4m8M+H/GegX3hbxVYQ6ppGpxGG5tZ13xSxt1VlPUV+Uf7CHwr+Hmj/ALOXxF8f6doNtD4jS78T6Yt/tLXAso0ULAHYk7BtHHqM9SaihSg6cpS3TQJH3D+z1+0NpXxV+DHgr4ieOLzS/DuteLopnSx+0rEGaK4lhAhWZ975EeeM85r6UlligieedxHHGCzMxwqqOSSTwABX4r/s6/sgfBPx9+wZ/wAJz4u0Uan4s1jRtWuYtUmkkeaya1kuFtVthvAjSLy1YoBh2LbshsV3Fz43+Hfi7/gnl8Kz+0Lq/iG6h197OxjstAfzNU1y4tJpYobNg4YyLIsQL5ZSWC4fftB3q4SDm+R9bbfkFj9T/D/jTwd4sa4TwrrthrLWhAmFldRXBjJ6B/LZtvTvTb/xv4L0uK9n1PX9Ps4tNdYrpprqKNbeRhlUlLMAjEcgNgmvxN0610/wF+1L8CPEXw2+CmqfBSw1XU7jSLh7+4CPq1tcRopjltBI7AxAlizHliM5KqR7V8Hf2ffhf8af2tf2j9V+KekL4itdD1iwis7G5dzapJdQP5szRKwVpNsaqrH7o3Y6jCngoxXM3pa/TvbuFj9ZrO9s9RtYr7T547q2nUNHLEwdHU9CrLkEe4qzX50/sDaePA+u/HP4NaTPK/hrwT4wmj0iCWRpPstvdKzeSpck7V2DvyxZjyxr66+M1h8bdR8M2sPwH1TRtJ15bxGnl1uGWa3az8uQOqLCCwkMhjIJ4wG9q5atDlqclwseh+I9f0vwp4e1TxTrkpg03R7We8upArOUgt0MkjBVBY4VScAEntXwH8J/22PG3xV/aL0D4a/8K+m8L+DPFGmXepaXe6ruj1K8t7YNtuBADtjikZcKDuyBuDEHj6N+DGi/tNWd5qy/tB634a1qwmhRbOPRLaeJlfJ8zzvPGCpXAAHvmvnj4g/8pK/hZ/2Jmp/+jLitqFOHvRers9fkB+h9YOo+KfDGj6ha6Rq+r2djfX5xb289xHFLMfSNGYM34A1a1vUX0jRb/Vo4GunsreWcQp9+QxoWCL7tjAr8qf2Uf2Vfg9+0j8Ak+NXxz09vGPjb4lTahdX2qTTyrNbbLmS2jjtdjKsQiEQIAXg5XmMKoxo0ouLnN2SBH6s6nq+k6JbC91m9gsLcusYkuJFiTe5wq7nIGSeAO9VdM8TeHNav7/StH1W0v73SmRbyCCeOWW2aTOwTIhLRltrYDAZwcdDX4WeNfE/irxZ/wTfvfDviLVZ9QufCPjiLw5aak5zJNa2V0gglVuCdiuEU5z8g571+xHwc/Z++E3wE0660/wCF+hJpTaikC31wXeW4vGtt+ySeR2JZ8yOc8cseAMCta+FVOOr1u191gaPYLi5t7OCS6u5VghiUs7uwVVUckkngAeprmtP8eeB9WhtbnSvEWnXsN9Mba3eG7hkWadRkxRlWIZwOqjJ9q+Ev2u9Jj+Lf7RPwM/Zz8WTXEPgXxI+r6rqttHIYU1OTS4BNBbM6YbapUlwCOHyCGCkeH/Hf9nj4VfBD9qb9nLVfhVp48OW/iHxEYrzTYJZDayyWXleVcLExYLIqzMjkHkFeM7iapYWLSTerTf3X/wAgsfrDqfjbwZov27+2df0+w/ssRm7+0XUUX2cSjMZl3sNm8cruxkdKm1fxd4U8P6XFreva1Zabp1xt8u5ubmOGB943LtkdgpyORg8ivy90r4DfDf43/wDBQT46f8LP03+3dN0Cy8NzQ6fLJItq9xPp0SrNKiModo0V1QNkDe3Ga8i8cz2PxA/a5+I2jeNPg/rvxZ8O/DG20vRtB0WwdFsdKimtw8k0sTOm9rhkzEST8gIYHbHtqOCi3a/RN/O3n5hY/baxv7HU7SLUNNuI7u1nUPHLC4kjdT0KspII9wawF8c+CX18+FE8Qae2tgkGwF3CbrIGSPJ3b+ntX5f/ALMll4g+FH/C8YfFHhfxH8Ivgvc6d/a2nJfyhp9Il8lkvvsci+awZs74gAxGxBgt974w+J/hX4Sw/s4X3iP4IfAjxZZrpi2+pWvxC1ydLG73LcI/2wESfvllHyoI1UfMGUBgDVwy9OTjft26/P8AILH7UfGP9pzwB8FvHXgTwH4jmhe88b35stxu4YRYJhcT3CyMGEbFgoPGT3r3qTX9Ci0b/hIpdRtk0nyxN9saZBb+U3IfzSdm054OcV+TH7TPw98B/Enx/wDsp+L/ABjoNrqGqeN7yzg1mV0IN7AbWCURTYI3IGY4B7EjoSDB+2ILQfHv4T/s5W/gPVPF3w50TQ5NXHhbQmFul3LC8tvAr/MuYrZYwdoYcP7mksHGSglvrf5DsfrVoXiPw94psRqnhnVLXV7MsV8+znS4i3DkjfGWXPI4zWa/j3wNG1qkniLTVa+ufsVuDeQgzXW4L5EfzfNLuIGwZbJAxX5Y/ADwj4w8KftZ6B4j+F3wY8Q/CjwFr+nXll4ktL0o2nvNFFJNaXCIHcRv5irHkY68Y3Pmz+wT+zx8KvGI8Z/GHxjo41rxLpHjvVE0yW5kkaPTxZTR3EbQRhgiuZnLs2MnAHY5ieDhFOTlorfjfz8hWP1l1DULDSbKbUtUuYrO0t13yzTOscaKO7MxAA9ya+ff2df2mfAf7R/h291vwxJFZXNlfXdmbF7qGa5aO1Kj7QEjYny3DqVOMcjnkV7j4m8M+H/GegX3hbxVYQ6ppGpxGG5tZ13xSxt1VlPUV+bH/BMf4V/DzR/hvrnj/TtBtofEaa/rOmLf7S1wLKOSILAHYk7BtHHqM9SaxpU4OlKT3VgPpD9mb9pqw+MHwW0L4mfES50rwtqGt3d7bR2xuVhjc21w8KiPz33MxC5IBPNfV8k0MULXEsipEil2diAoUDJJJ4wB3r8Yf2GP2Pvgp8ZP2XX8S/EfRhrWs6/Pqdnb3c8kjPpsEU8kca2ihwse2XfMSACzMdxI4qv4M8a/DrxL/wAE4Ph3pf7QOr+IrqzvdVfSrax8Pv5mp609nezrbWG1w2+Ly1Vdu5PuIFYNtB6q2Dg5tQeztt67fcNo/Ybw/wCNPB3ixrhPCuu2GstaECYWV1FcGMnoH8tm29O9Nv8Axv4L0uK9n1PX9Ps4tNdYrpprqKNbeRhlUlLMAjEcgNgmvxN0610/wF+1L8CPEXw2+CmqfBSw1XU7jSLh7+4CPq1tcRopjltBI7AxAlizHliM5KqR7V8Hf2ffhf8AGn9rX9o/VfinpC+IrXQ9YsIrOxuXc2qSXUD+bM0SsFaTbGqqx+6N2OoxM8FGK5m9LX6d7dxWP1ms72z1G1ivtPnjuradQ0csTB0dT0KsuQR7ivFPj58ddL+BXhmx1STQ9R8U63rt0NP0jSNLhaW5vrxkaQR5AIRAqku5BwBkKx4r5d/YG08eB9d+Ofwa0meV/DXgnxhNHpEEsjSfZbe6Vm8lS5J2rsHflizHljX6JtHGzK7KCyZ2kjkZ4OPSuWpTVOpZ6oD5M/Y++P8A42/aD8HeLNZ+IHh+28Nax4Y8R3mhS2drI0qo1pFC7B3LMGdXkZSV+U4BFfW1fnv/AME+f+Qb8c/+yoeIf/Qbev0Ip4uKVRpIGFFFFcwj/9H9+ZI45o2ilUOjgqysMgg8EEHqDXxLYf8ABOz9knTvHi+P7bwWv2mOb7Slk1zM2nJMG3bhbFim0HpGcxjoExxX27RWlOtOF+V2AKKKKzAKKKKACvnv4+fAj/heM3w+l/tz+xf+EE8Uaf4kx9m+0/avsBY/Z/8AWx+Xv3f6z58f3TX0JRVwm4u6A+ffEXwJ/t/9o/wn+0D/AG55H/CL6ReaV/Zv2bd5/wBrLHzftHmjZt3fd8ts46ivoKiiiU3K1+gHwFrf7Jfx00vxF4s/4U98eL7wn4V8aXk97d6deaZFq01pLcjEv2S5mlWSNSPlQLtKKB8zMAa6K2/Yn8MaH4W+C/g7wlr8thp/wg1tdb3T2y3E2pylzLKrsskQiLuxIYK+0YUKQK+26K2eMqd/y9B3PlXUv2ZRY/tG2X7RPw18Sf8ACKXl9D9l8S6YLP7Taa5CCNrNiaLyZ1A4lAfkKSv3xJ5rf/sifE/wZ4n8Sar+zZ8X7j4caH4uvHvr/R5tJg1a1huphiae0M7qYWc87Rx0GcKoX70opLFTXXy2QXPDfhL8C9H+GXwjf4T6prF/4uhv0uhqV7qkzSzXj3oIn4YsI4yCQqKcAdSzFmPiXwF/Yk8M/BX4D+N/gfea4fESeOjerd6g1oLZ1hubYW0cYj82XPkgFlO8fMxIC19v0UvrM9dd9QufKf7PH7Lemfs//AS/+CtlrZ1a41VtQlvNUNr9nMs98vlB/I82THlxLGmPMO7bnIzgdB8LPgAPhp+zXb/s8/27/aXkaXf6b/af2Xyc/bmmbzPs/mvjZ5v3fM5x1GePoyilLETd7vd3+Yrnxw/7HPhfU/2YPDv7N/iTXLi5l8KiOfTtctIzZ3NrqEDyPDdxRiSTayeYylS5ypOCCQRzuifstfHDWPGHhrV/jX8ddQ8X6D4PvEvrLTrHTYdFa5niH7trye2kLSgDKshB3An5hubP3TRVrF1Ndd/Tr+Q7nxT8Qf2afjHJ8U9c+KHwL+Ml34FfxXHbx6pp95p0Ws2m+3XYstslw4EJAydoHLFvmCnaMnT/ANhvSNM+A+qfCay8daxb+JdZ1o+JLvxPCfJu5dZJGZmiRwDFx/qjIectv3YYfdlFCxdSySf5dAufCPhf9kv4n658TfCXxL/aM+LMnxDfwHLJcaNYW+kW2lW8d04UC4mMLMZGG0MBtGGAw23Kn7U8SaP/AMJD4d1TQDL5H9p2s9t5m3ds86Mpu25GcZzjIz61tUVnUryk030C58Oj9jW8tf2bvBXwO0T4hX+i674Cuhf6b4gsYDBm5WeWZfOs/OZZI/3nKGX7yhs4ypl+Hv7KvxC/4W7oPxs/aC+KEnxF1zwlBcwaLbQ6Xb6XZ2bXSGOWVkhLCR2Q9cLg45IVQPt2itPrdSzV979uu4XOJ+Jfg7/hYnw58VfD/wC1/wBn/wDCTaTfaX9p8vzfI+2wPB5nl7k37N+7buXOMZHWvnHxD+x/oPib4A+Bvg3e+Irqz1v4dxWT6N4jsY/s91a3tkoVbhIvMYAOB80Zc9iGDAMPsSis4VpR+F+YrnxN4O/Zl+M1x8RvD3jz45fGu+8bW/hCSSXTdNsdOi0S3kmYbRLefZZD5/H8BGMjGSpZWo+Kv2XvjfY/EPxR4x+B3xvvPBeneNZxc6jp17pkOspBPjDSWb3Eg8oHJwigAcDdhUC/c9FafW53vp9yt92w7nwmn7Dmk6H8BdE+EXgPxzq3h3XtB1Ua/D4hiO6abVScvLcW4ZUlibjEZbI2pl2Ibdf+Hv7KvxC/4W7oPxs/aC+KEnxF1zwlBcwaLbQ6Xb6XZ2bXSGOWVkhLCR2Q9cLg45IVQPt2ih4uo003v+oXCvin4YfsoeK/hNr3jfS/DPxFkf4beMf7TuE8Oz6bE72V9qYUGaO8EgkZIwCFjwqkHnLfOftaisoVZRTS6iufPXwi+A//AAqv9nSx+AP9uf2n9i069sP7S+zeTu+2PM+/yPNfGzzcbfMOcdRnjxO//Yhhuf2ePh78HbDxrPpvib4Y3yanoviS3skDR3iTSShntHlcFP3nKebyyq2cZU/eNFWsVNO9+t/mFz88bb9jT4u+KPih4C+L3xo+NMvi3V/Ad+t1bWkejQ2dl5IwXjRIZUCyyMAXmKsSAq7cKK+jfhP8Ch8L/iZ8UviKNb/tP/hZWoWl99l+zeT9i+yxvHs8zzX83dvznamMYwetfQNFOeKnJWb09F6jufPvwd+BI+E3jn4n+NBrf9q/8LH1hdW8j7N5H2ParL5W/wA1/N+9ndtT6V9BUUVlObk7sQV88eIPgJ/bv7Svhb9oj+3fI/4RnRbrSP7M+y7vP+0tI3m/aPNGzb5n3fLbOPvDNfQ9FEKjjsAV+eQ/Yr+JngmXXPDXwB+NV98PvAPiK5muZtEGlwX72RuB+9WxupZFkhVjwNuCo5yzDJ/Q2iqpVpQvyhc+K/F/7FfhDU/2a9I/Zs8E6u/h3TdKvLS+N9LB9tmnmgm8+V5V8yHLzOSSQwC5wq7QBX2pRRSnWlLST/phc+Df26YPge2leArr4u61q/gzUodXb+wfFGkwux0e72B2aeYAqkUuxAVPzMVDDCo7L8NWGheHfHH7WnwWj8K/F+++OfizStSkvtU1Haq6fpek2UYlVEWANCjSuW3NvYs4RTtJG79x9V0nStd0+bSdcsodRsbkbZbe4jWaKRc5wyOCrDI7isTwt4D8D+B4pYPBXh3TvD8U+DImn2kNor4zjcIVUHGT1rroY3khy9dfx+Vx3PK/BPwM/wCEO+PvxI+OP9t/bP8AhYNvpMH9n/ZvL+x/2XbiDPn+a3m+Zjdjy029Pm615z8VP2XvFGs/FK5+OHwL+IM/w18Z6paR2eqt9ii1Ox1SOAKsJntpmCrIiKEDjJCgYAOS32LRXNHETTvfpb5CufHfgr9kx7fwT8RPD/xh8d6p8QdY+KELQatfyhbOGFBGY4/sVmpkigaMEEEZBKr8oUba8D139hD46+MvhkPgh4y/aCubvwJp9vDb6fZw6FbxSFLXb9mW7lWYSTRw7RiMv8xCsSCor9QKK0jjKid0/wAEO58i/GD9lmX4l/Dz4e+HtB8XTeF/FnwxksrjR9citEuAs9pCsJMlrI+1kk2hiu/ggZ3LlWi+JP7L/iH4l6N4D8R3XxAuNF+LXgOLbb+LrCxijM7SJtuFmsN/ktFMeTHuCjkD5WZT9f0VCxM1az2/ULnyJ8JP2dvib4e+JY+Lvxr+K174/wBdtrJ7Cxtbe0TSNMtopD87NbQOUmkPZmAxnkMQhXuv2c/gUPgB4W8QeGhrf9u/27r+oa55v2b7L5X24ofJ2+bLu2bPv5Gc/dFfQNFKeInJNMLhXyH8DP2aPFfwF+IHiK78MfECS7+G+vXV7qKeGLjTot9rfXjIxkjvg/mFEClQm0KQeQW+c/XlFTCq4ppbMR4B+zJ8DP8AhnP4Q6b8Kv7b/wCEh/s+4u5/tn2b7Jv+1TvNjyvNmxt3YzvOcZ46V852v7BUNj+zz4N+Dth47ns/E3w/1qTXtF8SW9giNBeNPJMA9o80gZB5mCPNGWVW6ZQ/oXRWixVRNyvq3f8Ar7x3Pzxtv2NPi74o+KHgL4vfGj40y+LdX8B363VtaR6NDZ2XkjBeNEhlQLLIwBeYqxICrtwor6N+E/wKHwv+JnxS+Io1v+0/+FlahaX32X7N5P2L7LG8ezzPNfzd2/OdqYxjB619A0UTxU5KzenovULnz78HfgSPhN45+J/jQa3/AGr/AMLH1hdW8j7N5H2ParL5W/zX8372d21PpX0FRRWU5uTuxHwje/D+4/ZB/Z5+Pfi+w8SNqF9r15r/AIptJ1tvszWd3qECpbwj97LvMcqr+8+XOfuDHP0Z+z3beM7b4H+Bx8RL+fU/E02k2s+oz3JzMbm4QSur8DlC2z/gNexUVpOu5Kz3vuO4UUUVgI//0v38ooooAKKKKACiiigAr42/a/8A2ufDv7LmgaLKzWt7r+sXsCJYTmUN9gLEXFyPKVv9UB0PUkDk8V9k1+dP/BTHStJvfgh4cur+zguJI/FmjRh5Y1Zljkdw6gsCQrDhh0I611YOEZVYxktBo679oD9p9dN+Gvwz+JHwN8Q2l/o/izxvpeh3F6IxLFJZTNcJcovmgbWDRY3YBGDivcvBH7Tn7P8A8SPFr+BfAvjzSta11N+21t5wzS+WCz+SThZdqgk+WWwAT0Br5S/4KN+EtA1P4U/C/wAGGzjttK1P4iaHaSwwKIl8q5ju0kACYAJDHkd6oftq/DjwJ4Bn+AHjHwToNjoWp6N8RNB023eyt47cCzufMeSEiNVyhMK4B4HPqa6YUacoxXV3/pjsfcvxP+M3ws+C+lQa18UvE1n4ctbtzHAbqTDzMoBYRRqGd9oI3bVOMjOMitD4d/FH4efFrQR4n+GviGz8RaZvMbTWkofy5ByUkX7yNjnawBwQcYIr8sviV/wtPxR/wUH8XweGvAejfEG58J+HdO/sqz1+9EFvaW06xPNc28bhlaQzuyFtuV9RkV6/+y38L/i94R/ae8ceNvFXhbQfAmi+JdDhF5ouh6nHcxjUYZo/IuWtkCmPfEZfm2gbiT1Y1M8JBU7t62v0/LcVj9H9R1HT9I0+51bVrqKysbKN5p553WOKKKMFnd3YhVVQCSSQAOTX56/tJftzfDrTPgZ44179nrx/pOqeNPDYsWjjTbcfu5r+3t5XRJBsmUJIQWTcFyDmtX/gpHeTJ8B9E0W5uXs9A1/xXo2n65Mkhj2aXK7vKWII+XeiZycV49/wUu+DXwV8L/sntqui+HdM0HUdBvdPg0eSzt4oJG82QJJAGQBnUwmSQqc5KbjyM08HQg3Bz6v8u4H2T4k8S+Lov2iPhzodr8QdP0rRdU0q+mu/DEtoHvdUljiZhPDcbCUWIlWIDrwhGH3fL0fjz9p39n74Y+J4/Bvj7x5pWi61JszazzjfEHGVM23IhBHIMhUYIPQivmX4jf8AJ/fwA/7FrXv/AEmevINV+FfxS+EPxE+LHjzwb8PfDXx68D+OdTu77U4jcwrrdjvy89kWmV0ZIw/yxIrMRjhSQKaw8HbmfTyXV9R2Ppr9q79srwb+zp4Q8Oa3pd3Ya1qPiW4tXtbcyO8c2lykmW8ieAOGRFwVIOGyMZyM+3w/tD/BSfwXovxFi8XWR8NeItQXS9PvyWWGe9dnQQqSoIbdG4ywA+U84r8xv2gdV+C3xA/YR+GPiT4T6D/ZvhWPxNplrZWl8DNcWardTx3EDSSvKxXeGH3yGUjtwPff+CjPhLw/qXwr+Fvg2Syjg0jU/iJoVpNBAoiQxXMd0kgAQADcGPI780/qtN8sWmnd3+QWPQ/iV+0N4b+IWg6HefAL4yaNoH2TxXp2laheTWhvoLw3KyMLCJmjZS8wXKshAIUjzEo8W/tL/wDCuv2utW+HvxC8Q2OhfDvTvAia60l2EiK6g+pJaqRKfnbcjECMZyeQM157+3F4Q8KeDPAfwc0rwho1nolkvxM8MqIbK3jt48ItyF+WMKOB0rlPHXgnwB46/wCComhaf8QLO21KKy8Bi8sLW7RZYZr2O7mVQY3+VykTSyAEHBUNjIBDp0qbje2ln2uI/QH4Z/GT4WfGTTJtY+F3iix8SW1qVE/2SUNJAXztEsRxJGWwdu9RnBx0rZ8E/ELwX8R9PvNV8D6tDrFpp95Np9xJDnbHdW+PNiO4D5lyM9ua+C9W8OeGvh1/wUZ8BW3w0soNIbxf4X1RvEdpZKsELxW+97a5kijwpdpUCbiATtznOa2/+Cdl5awfDT4mWs8qxy6f4+1/7QjkKYf9SfnB+6Mdz6H0NYVcNFQc4+X43/yCx6H8cf2zvhd8NPgZqPxd8Ia1Y6/MZpbHS4GaUR3t/A6rLACq7gUBLMeBgdcVyfjL9o+x+Kn7OFj8SPgz8VNI8DXwvdMg1DUrq0a8t7W4nRHmsTHLExEhMigEoemMrncvw/4Kt9J1r/glb8S9Qkgiu0TVNUuLd3QMUJvoSrpuGVODwRg17x+1zpOkaT+wJ4Li0ezgsopZPCbssEaxqzFYvmIQAE4712LC04tR681h2P0g+IHxP+Hvwn0IeI/iX4jsfDmns3lrNezLCJZMFtkak7nfAJ2qC2ATjiq3w3+Lvwx+MGkya58MfE1j4ks4CqzNZzK7ws4JVZY+HjYgEgOoJr4k8V+H/D/xH/4KO6f4Z+KNnDqOleGfAh1HQNPvcS2st5Ne+XPciGTKNKqb1xtJxGr9UBEV54d8OfDb/gox4NsvhjZQaSvjHwrqMniOyslEMDJbs7W11JCmF8xpFCbtoJxnqTnjWGjy2vra/kKx9J6z+2B+zJ4et1uNZ+IulWqvdTWYVpWMnn277JQYwpcKjcFyNue/WvfdD1zRvE2j2fiHw7fQ6npmoxLPbXNvIssM0TjKujqSGBHQivzJ/YA+EPw08S+Bvit4g8T+G7DWL/WvGet2NxLeW8c7NaReXtgBcHCZd2IGMluegx6N/wAE0DLbfs2S6D5rSWuheItZsbUOclIEn3hc/wC87H6mniMNCKlyt6NfiDR7r8Wdf8W6Z8ZPhPo2h/EHT/C+m6xc6gt5ot1aCe51xYIkfy7eUqxjMQJJwyfeBJfG2trx5+07+z98MfE8fg3x9480rRdak2ZtZ5xviDjKmbbkQgjkGQqMEHoRXzv+07/yd3+yt/1/+J//AEit68O1X4V/FL4Q/ET4sePPBvw98NfHrwP451O7vtTiNzCut2O/Lz2RaZXRkjD/ACxIrMRjhSQKunh4SjHmfTyXV9R2P1j07UdP1fT7bVtJuor2xvYkmgngdZIpYpAGR0dSVZWUgggkEHIr4x+If7R1x8NP2uLP4f8AjLX7HQvh2ngd9cupLwRxBb3+0Htkbz2+b5lCqEB5Y8DJr1D9k/xX8LPGfwB8J618F9Nn0Xwj5U0NpYXTvJNamGZ0lidpJJWbbIGwd7ZXGMDAHy38SvAfhTx9/wAFMPBdr4v02DVrXSfh89/FBcxrLCbiPULmNGZHBVtvmFlyDhgD1ArKhSipyjNaJMSPt34X/Gz4UfGmwutS+Fniiy8Rw2LKlwLZ/wB5CXzt8yNgrpuwdpZQDg4zg15p+zp4x1u78A+K/EHxF+JWleOY9J1vUkbVLW3TT7bT7S2VCbabKxqDB8zO7ZwGwXYLur5/0PwxoPgH/gphc2fhCxh0q18UfDj7dfwW8axRSXMepeSJNiAANshUE9Tye9fC15eSx/sY+J9Ju7l7Pw9rXxnmsddmRzHs0qSVGmLEEfLvRM5OK6IYSMtIvR2/G47H61W37Zv7LN5BrF1a/EvSJYtBVHvGWYkIjypCrp8v71fMkRS0e4AsMkVwvxg/aG1H4ZftO/DfwXq2uWWjeAdb0TV9R1aa7EaKptImaF/PfBQbgBgH5icdTXzb/wAFLfhH8DvDH7J66pomgaVoeo6ReafDoklnBFBI/mSbZIVZAGdDB5khB3AlQx5Ga6z47eCfDHj79uf9nrQvGGnw6rpkeh6vdNa3CCSGSS2haSLejcMFkCvg8EgZBGRRSoUrKava0t/JAfb/AML/AI9fBz40/bR8LfFtj4ik07H2iO2kPmxBiQrNG4VwpIIDY2nsa+bf2eP2pY9S+Fnifx/8e/ENppkFh401Lw9aXTxCCIRxFPs8TeWpG7lvnbr3NcT4n8LeHvAv/BR/4ZXng/T4NHPijwpq0Gox2kSQx3C2u+SNnVAAXyqAseSEUdhXlf7P/wAJYfjj+xv8cvhkUVrrVvF/iM2RbAC30DQTWrZPQecihv8AZJHeksPTUb9Hb1WruFj9RvH3xC8FfC7wxc+M/iBq8Gh6JZtGkt1cEhFaVwiDgEksxAwB+ma66GWO4hSeI5SRQynBGQRkcHmvxY0b4nTftkw/s0fA+8ZriSw3+IPG0T5LKPDrNZxpcDqBdzK+5T08xD9P2rrlxGH9nZPfUTPCfHn7Tv7P3wx8Tx+DfH3jzStF1qTZm1nnG+IOMqZtuRCCOQZCowQehFeZftCfG3xL4L8VfAu3+HupWs2jfELxPa2F5Mix3Mdzp9wqsDDJyAGByroeRgg4r5T1X4V/FL4Q/ET4sePPBvw98NfHrwP451O7vtTiNzCut2O/Lz2RaZXRkjD/ACxIrMRjhSQK8v8AjR478N698Gf2WfFX7K3h14reHxYYtB0bUJHYxXsTtGIJ5JJXOwT5yxlxs53KOnbSwkOaNtfuts/uHY/X7WPir8O9B8c6R8MtV123h8Va7G0tlpoLPcyxJktJsQMVQbW+ZsD5W54OOH+Iv7T/AOz/APCbxFH4S+InjrTdE1l1VjayyFpY1cZUyrGG8oMDkF9uRyOK+Pv+Cep0DVNT+IWsfEkXEv7QkOpTQeLG1PabqKASH7MlmF+VbPYqjEfG5R/yzENfL37K1j8dfGXhXxt4v034N+FPiBe+Jdf1JNY1HX9QT7a0wYb7R0lSQpHGCNqjAIOcdDWawUE5Jva3ZXv2v0Cx+y2t/Fz4Z+HdP8Oatq/iSzhsPF93BY6RcrJ5lve3N1zCkUse5D5gBKnOD61P4l+KXw98H+KvD/gjxPrttp2u+Knkj0u0lYiW6aPG4IAMdWAGSMngZNfk6v7PfxIsP+CfXj3wl4hFpDq3gzXbvxN4bj07UF1GKwt7Ex3LQxyqT86f6UgX725skZPPkHxc8W6v+0trviX9rnwW5KfA3RPCF9p0URPlPfTSpqWoqfe2Vnjkz/cA561UMBCT0lpqvyt+YWP3KufiL4Is/Htn8L7nV4U8VX9m2oQafyZntEZkabAGAu5SMkjkGvK7r9rb9mmx8av8PLz4jaPDr0Uxtnga4ARJwdpiabHkhw3ylS+Q3BGeK/PO28Y6n8Ubz9q39rjwFLLLBovhx/C3hq6jYq0UNtaC4v5onHIZH2TIVPf8+C8E/Cr4v+Kv2RtN8IaP8EPA8nhrW/D6XI1+fV4473zZoPMOoyyshZJ0cmRgz4jwYzhBtojgYL4327b7hY/bTxN4p8NeC9Cu/FHi/VLXRdIsFD3F3eTJBBEpIUbpHIUZYgDnkkAckV8H/F79tPwjqUHw4b9nnxrputS6x490TQNYjjUSyLYX/nCQeXKoZQ5jAWVRjg4NeH/FTw54hudA/Y9+DnxynivdIvtS+z66FuvtFre3NhBGmnxySA7Zlm3EEknJJ65rov25fhl8K/C3xG/Z08S+HdGsNE8RSeO9IskWygjtjPYrNGz7ljChhC6xBcg7d5AxnBVDDQUoqWrd/TS4WP1coooryyQooooAKKKKACiiigAooooAKKKKACiiigAooooAKKKKAP/T/fyiiigAooooAKKKKACvLPjP8HfBXx4+Huo/DTx9FM+laiY38y2k8q4gmhYPHLC+GCujDIypBGQwIJB9Toqoyad0B8s3f7KPhrW/hx4O+HHjDxh4l8SReCvEFv4itNR1C9iuNQmubRpGihnmkgbfAvmldoAYAABwBivR/jD8FfC3xssvC9j4qur21j8J6/Y+IrU2TxoXu7ASCJJfMjkzEfMO4LtY8YYV6/RV+3ne9wPmv41/sueA/jVr+leN59T1fwh4x0OJ4LTXfD139h1BYXyTE8m1g8eSflI43MAQGOZvgb+zF4F+Bmqa34q0/UtW8VeLfEgjXUdd167+26hNHHjbEH2oqxggHAXJwoYkKu36Oop+3ny8l9AucP8AEn4c+D/i14J1X4e+PLBdS0TWYjFPE3BHOVdGHKujAMjDlWAIr4j1b/gmv8KvFGgyeGPG3j3xv4k0y3iWHSob/WEnTSFV0bNojwGMMVQxZZGAjYqFDBWH6KUUUsROCtF2A8a1v4HeEte+L3g/403d1eprfgqxu7CyhjkjFrJFeoY5DMhjLswB+UrIoz1Br568U/sEeAdZ8T+I9c8J+OvF/gTTvGM8lzrOkaBqgtdPu5ps+a5iaJ9pkJO4ZK4JVQq8V91UU4YmcdmFz5y1z9lX4Oa58A4f2bm02Wy8HWsaLbrbzFbmCVJTMLhJmDfvTKS5LAhixBUqSKxrv9lHw1rfw48HfDjxh4w8S+JIvBXiC38RWmo6hexXGoTXNo0jRQzzSQNvgXzSu0AMAAA4AxX1NRSWIn38wPIPjH8FfCvxu0/w1pviu6vbWLwtrtl4gtjZPHGz3VgHEaS+ZHIDEfMO4KFY8YYd/JPjF+xj8M/jR8SR8W9c1nXtH8UW+mQ6bY3ek3qWbWBgnaZLm3YRFxP87xks7IUYjYGww+uqKIV5xtysLnzL8D/2WPAvwS8Qat45j1bV/GPjLXYkgu9c8QXX22+aFDnyo32rsjJAyoyTtUEkKMeb+Kf2Avg34n+IWv8Aj2HWvEmhw+Lpmn1zR9L1Q2ml6o8jbpftMSp5jLKxZnUSAEsSNtfcVFUsVUTclLUdz5v8A/sr/Cz4f/BPWPgBZpd6p4S1xr03Md7Khm23xy6o8EcIUJx5ZC7lwDkkZrz63/Yi8Dt8Gp/gZrfjXxXrnhw6jaahatfX8M9zYrYhBDa27vblUtxsH7sJgc7duTX2jRSWJqXvfz+YXPnn45fs0eAPjxcaNret3epeHfE3hxnbTdd0O5+xanaiQEMizBWyhznaQcc7SNzZp/BH9l3wF8Eda1fxjaalq3izxfr0aQ3uu+ILv7dqEkSYIiWTauyPIBKgc4XJO1cfSVFT7efLyX0Fc8e+C3wT8KfArQNY8O+Ebq9u7bW9XvNama+kjkdbi9KmRUMUcQEY2jaCCw7saPgj8EvCnwE8JXfgzwfdXt3ZXmo3Wpu99JHJKJrxgzqDFHEuwEfKNpPqTXsNFKVWTvd7geQeO/gr4V+IPxG8AfE7Wrq9h1T4cTX82nRW7xrbytqESQyi4V43dgFQFdjpg5zkcV86eKf2CPAOs+J/EeueE/HXi/wJp3jGeS51nSNA1QWun3c02fNcxNE+0yEncMlcEqoVeK+6qKqGInHZhc4b4afDjwh8I/A2kfDnwHZf2foeiRGK3i3M7fMxkdmZslmd2Z2J6kmuZuvgr4Vu/jpZ/tAyXV6PEVloTeH0gDx/YjatcNclynl+Z5u9iM+YFx/DnmvX6Kj2krt33A8guPgr4WuPjrbftBPdXo8RWugHw6tuHj+xG0Ny11vKeX5nm72Iz5m3b/DnmvBPGfwW8CfAj9nD4geGtI8F6t8V9H1/ULrV77RGkie6me/kj87yGijjZVhCiSPYrSqVypJwR9tUVcK8k1rpp+AH85/jzwP+zp8VvCkPwv8A2a9I8b+LfHOty2lpYw64Lp7Pwxb/AGiOW4P74LHFiOMox3OArN847/uTrPwN8J678XfB/wAaL27vV13wTY3dhZxRvGLSSK8QxyNMhjZywBO3bIoB6g17PRW9fGynZLz633G2ePa/8EvCviL4z+Fvjne3d6mveErK7sLSCN4xaPFeqyyGVDGZCwDHaVkUDuDXCaF4X+G37Gfwp8V67BNq2oaHLq1xrd4GRb27+0alLFEyQxwRxkoG24BBIGSWIFfTlFc6rO1nsI/Nn9g74SGDxd8Vv2lb/wAMXHhUfEjWJ20WwvYjDdQaV5rTNI8Z/wBX9plYNs6DyxtypUn9JqKKdes6kuZgfCvin9gjwDrPifxHrnhPx14v8Cad4xnkudZ0jQNUFrp93NNnzXMTRPtMhJ3DJXBKqFXivUJP2TPhNHonwv8ADejJe6Ppnwl1JNV0iC1mTbJcKxdvtLSxyNIJHZnfaUYsTgjpX01RVPFVHa8gueAeJ/2cfA/iH416B+0BZXuo+H/F+iQm1ml0yWGKHVLQ4/0e/jlhk81APlBUo4GMNlIynlnjT9iHwJ4g8Y63428EeMvFXw2vPFEgl1iDwxqYsbW+cgh5JITG4EjZJLDuWOMsSftKilHEzWzC55N8KPgl8O/gx8OYPhb4I07ytCjEvnLO3nS3Uk/+uluHP33k6NwABhVAUADz34PfsmfCr4J/CTxJ8F/C5vr3QPFb3jX738sUtzIt9AttIgeOKNdojUBQVOOSSSTX03RU+2nrruFzw/4H/s+fD74B/CyP4Q+Eo59R0PfcyTtqRinmujdsTJ5+yOONxtIjx5YGxQDk5J+cLv8A4J3fDB7e58M6V448Z6P4Evpnmn8K2mslNHbfJ5hiETRsyxE/eXcSeDuBGa+/6KqOJqJtp6sDwj4j/s2/CX4n/Cqx+Dmu6SbTw9o6240z7E/k3GnNaLthktpSGKOq/Lk5yCQ2cmvAbL/gn18NpPEHh/xh4x8ceMfGPiDwvqljqWn32saql3LAmnyGRLRQ8JUQSNtaUAB2KKVdPmB+9aKIYmpFWTHc8P0f4CeFNF+PWvftDWuo6m+v+IdLh0qe0kuQ2npDCY9rxw7Awf8AdL1cqCXIXLE17hRRWUpt7iCiiipAKKKKACiiigAooooAKKKKACiiigAooooAKKKKAP/U/fyiiigAooooAKKKKACiiigAooooAKKKKACiiigAooooAKKKKACiiigAooooAKKKKACiiigAooooAKKKKACiiigAooooAKKKKACiiigAooooAKKKKACiiigAooooAKKKKACiiigAooooAKKKKACiiigAooooAKKKKACiiigAooooAKKKKACiiigD/9k=)\n",
        "\n",
        "angka tersebut menujukkan banyaknya data outliers\n",
        "\n",
        "\n",
        "\n"
      ],
      "metadata": {
        "id": "Ryv_63B8EvHZ"
      }
    },
    {
      "cell_type": "markdown",
      "source": [
        "## 2c.\n",
        "Sebelum melakukan extreme value analysis, kamu harus melakukan pengecekan skewness dari distribusi datanya. Apakah datanya skew atau normal? jelaskan jawabanmu!"
      ],
      "metadata": {
        "id": "9zt9-0T8I1Di"
      }
    },
    {
      "cell_type": "markdown",
      "source": [
        "Seperti dijelaskan sebelumnya. Data tersebut ***Highly Skewed*** dengan nilai 13.12"
      ],
      "metadata": {
        "id": "zW63nUz5I_Hm"
      }
    },
    {
      "cell_type": "markdown",
      "source": [
        "## 3c.\n",
        "Ada dua teknik untuk melakukan extreme value analysis, teknik yang mana yang kamu pakai? berikan alasanmu berdasarkan data!"
      ],
      "metadata": {
        "id": "wM6VZ0gPJQZR"
      }
    },
    {
      "cell_type": "markdown",
      "source": [
        "Saya menggunakan teknik Tukey’s Rule\n",
        "\n",
        "dengan mencari q1 dan q3 terlebih dahulu\n"
      ],
      "metadata": {
        "id": "l8rtRY3TJ3Ln"
      }
    }
  ]
}