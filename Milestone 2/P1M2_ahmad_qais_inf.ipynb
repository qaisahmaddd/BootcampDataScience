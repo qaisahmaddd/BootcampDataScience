{
 "cells": [
  {
   "cell_type": "code",
   "execution_count": 3,
   "id": "c8d1a8ae",
   "metadata": {},
   "outputs": [],
   "source": [
    "import pandas as pd\n",
    "import joblib"
   ]
  },
  {
   "cell_type": "code",
   "execution_count": 5,
   "id": "f1a64bfb",
   "metadata": {},
   "outputs": [
    {
     "data": {
      "text/html": [
       "<div>\n",
       "<style scoped>\n",
       "    .dataframe tbody tr th:only-of-type {\n",
       "        vertical-align: middle;\n",
       "    }\n",
       "\n",
       "    .dataframe tbody tr th {\n",
       "        vertical-align: top;\n",
       "    }\n",
       "\n",
       "    .dataframe thead th {\n",
       "        text-align: right;\n",
       "    }\n",
       "</style>\n",
       "<table border=\"1\" class=\"dataframe\">\n",
       "  <thead>\n",
       "    <tr style=\"text-align: right;\">\n",
       "      <th></th>\n",
       "      <th>agency_name</th>\n",
       "      <th>sex</th>\n",
       "      <th>race</th>\n",
       "      <th>job_class</th>\n",
       "      <th>classification</th>\n",
       "      <th>contract</th>\n",
       "      <th>status</th>\n",
       "      <th>hours_worked</th>\n",
       "    </tr>\n",
       "  </thead>\n",
       "  <tbody>\n",
       "    <tr>\n",
       "      <th>0</th>\n",
       "      <td>75.0</td>\n",
       "      <td>0</td>\n",
       "      <td>5.0</td>\n",
       "      <td>756.0</td>\n",
       "      <td>0</td>\n",
       "      <td>0</td>\n",
       "      <td>0</td>\n",
       "      <td>40.0</td>\n",
       "    </tr>\n",
       "  </tbody>\n",
       "</table>\n",
       "</div>"
      ],
      "text/plain": [
       "   agency_name  sex  race  job_class  classification  contract  status  \\\n",
       "0         75.0    0   5.0      756.0               0         0       0   \n",
       "\n",
       "   hours_worked  \n",
       "0          40.0  "
      ]
     },
     "execution_count": 5,
     "metadata": {},
     "output_type": "execute_result"
    }
   ],
   "source": [
    "data = {\n",
    "    \"agency_name\": [75.0],\n",
    "    \"sex\": [0],\n",
    "    \"race\": [5.0],\n",
    "    \"job_class\": [756.0],\n",
    "    \"classification\": [0],\n",
    "    \"contract\": [0],\n",
    "    \"status\": [0],\n",
    "    \"hours_worked\": [40.0]\n",
    "}\n",
    "\n",
    "df = pd.DataFrame(data)\n",
    "\n",
    "df"
   ]
  },
  {
   "cell_type": "code",
   "execution_count": 6,
   "id": "64e3020e",
   "metadata": {},
   "outputs": [
    {
     "name": "stdout",
     "output_type": "stream",
     "text": [
      "0    4101.666323\n",
      "Name: Predicted Month Salary, dtype: float64\n"
     ]
    }
   ],
   "source": [
    "# Load model SVM dari file\n",
    "gbm_model = joblib.load('gbm_model.pkl')\n",
    "\n",
    "predictions = gbm_model.predict(df)\n",
    "\n",
    "# Analisis Hasil Inferensi\n",
    "predictions_df = pd.DataFrame(predictions, columns=['Predicted Month Salary'])\n",
    "\n",
    "# Menganalisis hasil prediksi\n",
    "print(predictions_df['Predicted Month Salary'])"
   ]
  }
 ],
 "metadata": {
  "kernelspec": {
   "display_name": "Python 3 (ipykernel)",
   "language": "python",
   "name": "python3"
  },
  "language_info": {
   "codemirror_mode": {
    "name": "ipython",
    "version": 3
   },
   "file_extension": ".py",
   "mimetype": "text/x-python",
   "name": "python",
   "nbconvert_exporter": "python",
   "pygments_lexer": "ipython3",
   "version": "3.11.5"
  }
 },
 "nbformat": 4,
 "nbformat_minor": 5
}
