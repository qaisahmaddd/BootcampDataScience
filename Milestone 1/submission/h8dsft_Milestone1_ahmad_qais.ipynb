{
  "nbformat": 4,
  "nbformat_minor": 0,
  "metadata": {
    "colab": {
      "provenance": []
    },
    "kernelspec": {
      "name": "python3",
      "display_name": "Python 3"
    },
    "language_info": {
      "name": "python"
    }
  },
  "cells": [
    {
      "cell_type": "markdown",
      "source": [
        "#Perkenalan\n",
        "\n",
        "'''\n",
        "\n",
        "=================================================\n",
        "\n",
        "Milestone 1\n",
        "\n",
        "Nama  : Ahmad Qais Alfiansyah\n",
        "Batch : RMT-026\n",
        "\n",
        "Saya mendapatkan sebuah project dari sebuah perusahaan Airline di Amerika. Satu tahun belakangan banyak komplain dari konsumen yang merupakan konsumen loyal sebagai member di perusahaan mereka terkait kualitas *in-flight F&B *.\n",
        "\n",
        "Mereka menargetkan skor kepuasan konsumen lebih sepesifiknya member bisnis mereka terhadap kualitas F&B mereka kembali di atas 4.5 pada Semester 2 2023 (kisah ini di akhir tahun 2022).\n",
        "\n",
        "Mereka menginginkan saya menganalisa faktor eksternal terlebih dahulu. Mencari kemungkinan ada penyebab dari turunnya angka kepuasan konsumen, khususnya member mereka.\n",
        "\n",
        "Sebagai langkah awal, saya akan menggunakan data milik perusahaan untuk menganalisa faktor-faktor yang mungkin menjadi penyebab turunnya skor kepuasan member mereka. Saya akan menggunakan tools OKR dengan objective:\n",
        "\n",
        " *Bersama dengan klien mewujudkan peningkatan kembali skor kepuasan konsumen khususnya yang telah menjadi member di atas 4.5 pada Bulan Juli 2024.*\n",
        "\n",
        " Key Result:\n",
        " 1. Mencari tahu apakah ada kemungkinan hubungan skor kepuasan terhadap kategori jarak penerbangan. Untuk mencapai itu, sebelumnya saya harus cek terlebih dahulu:\n",
        "\n",
        " * Komposisi membership perusahaan mereka\n",
        " * Skor kepuasan dari setiap member\n",
        " * Mencari tahu central tendency skor kepuasan member\n",
        " * Mencari tahu central tendency skor kepuasan member berdasarkan kategori jarak\n",
        " * Mengetahui sebaran data skor kepuasan member berdasarkan kategori jarak penerbangan\n",
        " * Menguji apakah jarak penerbangan relevan dan saling terkait dengan skor kepuasan member\n",
        "\n",
        " 2. Mencari tahu apakah ada kemungkinan hubungan erat antara skor kepuasan terhadap generasi usia member. Saya akan melakukan langkah-langkah berikut:\n",
        " * Mencari tahu komposisi member berdasarkan generasi usia\n",
        " * Menghitung persentase tiap skor kepuasan berdasarkan generasi\n",
        " * Mencari rata-rata skor kepuasan member dari setiap generasi per harinya\n",
        " * Mencari central tendency kepuasan member berdasarkan generasi\n",
        " * Menguji apakah benar terdapat hubungan kuat antara generasi dengan skor kepuasan  \n",
        "\n",
        "=================================================\n",
        "\n",
        "'''"
      ],
      "metadata": {
        "id": "-rIP-Wdmfr9R"
      }
    },
    {
      "cell_type": "code",
      "source": [
        "# import data csv klien\n",
        "import pandas as pd\n",
        "url = ('https://raw.githubusercontent.com/qaisahmaddd/rmt026/main/Survey%20data_Inflight%20Satisfaction%20Score.csv')\n",
        "df = pd.read_csv(url)\n",
        "\n",
        "df"
      ],
      "metadata": {
        "colab": {
          "base_uri": "https://localhost:8080/",
          "height": 745
        },
        "id": "jmDQJO74n1IT",
        "outputId": "ebb179b2-6a25-4847-a128-d1c74d602c65"
      },
      "execution_count": 133,
      "outputs": [
        {
          "output_type": "execute_result",
          "data": {
            "text/plain": [
              "       flight_number origin_station_code destination_station_code  \\\n",
              "0               3802                 MKX                      ORX   \n",
              "1               4645                 COX                      DEX   \n",
              "2               5236                 COX                      DEX   \n",
              "3               4686                 DEX                      COX   \n",
              "4                671                 DEX                      COX   \n",
              "...              ...                 ...                      ...   \n",
              "47069              2                 SFX                      SIX   \n",
              "47070              2                 SFX                      SIX   \n",
              "47071              3                 SIX                      SFX   \n",
              "47072              3                 SIX                      SFX   \n",
              "47073              2                 SFX                      SIX   \n",
              "\n",
              "      record_locator scheduled_departure_date  \\\n",
              "0             CYXXJJ                 9/1/2022   \n",
              "1             DRXXMH                 9/1/2022   \n",
              "2             DEXXS1                 9/1/2022   \n",
              "3             PXXXLH                 9/1/2022   \n",
              "4             KZXXH5                 9/1/2022   \n",
              "...              ...                      ...   \n",
              "47069         IPXXM3                9/30/2022   \n",
              "47070         O5XXK4                9/30/2022   \n",
              "47071         G8XX3W                9/30/2022   \n",
              "47072         G8XX3W                9/30/2022   \n",
              "47073         O5XXK4                9/30/2022   \n",
              "\n",
              "                                           question_text           score  \\\n",
              "0      How satisfied were you with the food & beverag...               2   \n",
              "1      How satisfied were you with the food & beverag...               5   \n",
              "2      How satisfied were you with the food & beverag...               5   \n",
              "3      How satisfied were you with the food & beverag...               3   \n",
              "4      How satisfied were you with the food & beverag...               5   \n",
              "...                                                  ...             ...   \n",
              "47069  How satisfied were you with the food & beverag...               4   \n",
              "47070  How satisfied were you with the food & beverag...               4   \n",
              "47071  How satisfied were you with the food & beverag...               1   \n",
              "47072                          What item did you choose?  chicken entrée   \n",
              "47073                          What item did you choose?  chicken entrée   \n",
              "\n",
              "      satisfaction_type driver_sub_group1               driver_sub_group2  \\\n",
              "0          Dissatisfied   food & beverage  food and beverage satisfaction   \n",
              "1             Satisfied   food & beverage  food and beverage satisfaction   \n",
              "2             Satisfied   food & beverage  food and beverage satisfaction   \n",
              "3          Dissatisfied   food & beverage  food and beverage satisfaction   \n",
              "4             Satisfied   food & beverage  food and beverage satisfaction   \n",
              "...                 ...               ...                             ...   \n",
              "47069         Satisfied   food & beverage  food and beverage satisfaction   \n",
              "47070         Satisfied   food & beverage  food and beverage satisfaction   \n",
              "47071      Dissatisfied   food & beverage  food and beverage satisfaction   \n",
              "47072               NaN   food & beverage                            comp   \n",
              "47073               NaN   food & beverage                            comp   \n",
              "\n",
              "       ...  equipment_type_code ua_uax actual_flown_miles haul_type  \\\n",
              "0      ...                  CRZ    UAX                 67     Short   \n",
              "1      ...                  E75    UAX                 72     Short   \n",
              "2      ...                  E75    UAX                 72     Short   \n",
              "3      ...                  CRJ    UAX                 72     Short   \n",
              "4      ...                  19F     UA                 72     Short   \n",
              "...    ...                  ...    ...                ...       ...   \n",
              "47069  ...                  78P     UA               8440      Long   \n",
              "47070  ...                  78P     UA               8440      Long   \n",
              "47071  ...                  78P     UA               8440      Long   \n",
              "47072  ...                  78P     UA               8440      Long   \n",
              "47073  ...                  78P     UA               8440      Long   \n",
              "\n",
              "      departure_gate  arrival_gate international_domestic_indicator  \\\n",
              "0                C12           F10                         Domestic   \n",
              "1                  5           B60                         Domestic   \n",
              "2                  7           A71                         Domestic   \n",
              "3                B82             5                         Domestic   \n",
              "4                B24             3                         Domestic   \n",
              "...              ...           ...                              ...   \n",
              "47069             G9           F52                    International   \n",
              "47070             G9           F52                    International   \n",
              "47071            F52            G2                    International   \n",
              "47072            F52            G2                    International   \n",
              "47073             G9           F52                    International   \n",
              "\n",
              "      response_group media_provider        hub_spoke  \n",
              "0         non-member            NaN  spoke departure  \n",
              "1             member           GOGO  spoke departure  \n",
              "2             member           GOGO  spoke departure  \n",
              "3             member            NaN    hub departure  \n",
              "4             member      PANASONIC    hub departure  \n",
              "...              ...            ...              ...  \n",
              "47069     non-member      PANASONIC    hub departure  \n",
              "47070         member      PANASONIC    hub departure  \n",
              "47071         member      PANASONIC  spoke departure  \n",
              "47072         member      PANASONIC  spoke departure  \n",
              "47073         member      PANASONIC    hub departure  \n",
              "\n",
              "[47074 rows x 31 columns]"
            ],
            "text/html": [
              "\n",
              "  <div id=\"df-06469295-1c3f-4126-9df4-6ff962c8a5b1\" class=\"colab-df-container\">\n",
              "    <div>\n",
              "<style scoped>\n",
              "    .dataframe tbody tr th:only-of-type {\n",
              "        vertical-align: middle;\n",
              "    }\n",
              "\n",
              "    .dataframe tbody tr th {\n",
              "        vertical-align: top;\n",
              "    }\n",
              "\n",
              "    .dataframe thead th {\n",
              "        text-align: right;\n",
              "    }\n",
              "</style>\n",
              "<table border=\"1\" class=\"dataframe\">\n",
              "  <thead>\n",
              "    <tr style=\"text-align: right;\">\n",
              "      <th></th>\n",
              "      <th>flight_number</th>\n",
              "      <th>origin_station_code</th>\n",
              "      <th>destination_station_code</th>\n",
              "      <th>record_locator</th>\n",
              "      <th>scheduled_departure_date</th>\n",
              "      <th>question_text</th>\n",
              "      <th>score</th>\n",
              "      <th>satisfaction_type</th>\n",
              "      <th>driver_sub_group1</th>\n",
              "      <th>driver_sub_group2</th>\n",
              "      <th>...</th>\n",
              "      <th>equipment_type_code</th>\n",
              "      <th>ua_uax</th>\n",
              "      <th>actual_flown_miles</th>\n",
              "      <th>haul_type</th>\n",
              "      <th>departure_gate</th>\n",
              "      <th>arrival_gate</th>\n",
              "      <th>international_domestic_indicator</th>\n",
              "      <th>response_group</th>\n",
              "      <th>media_provider</th>\n",
              "      <th>hub_spoke</th>\n",
              "    </tr>\n",
              "  </thead>\n",
              "  <tbody>\n",
              "    <tr>\n",
              "      <th>0</th>\n",
              "      <td>3802</td>\n",
              "      <td>MKX</td>\n",
              "      <td>ORX</td>\n",
              "      <td>CYXXJJ</td>\n",
              "      <td>9/1/2022</td>\n",
              "      <td>How satisfied were you with the food &amp; beverag...</td>\n",
              "      <td>2</td>\n",
              "      <td>Dissatisfied</td>\n",
              "      <td>food &amp; beverage</td>\n",
              "      <td>food and beverage satisfaction</td>\n",
              "      <td>...</td>\n",
              "      <td>CRZ</td>\n",
              "      <td>UAX</td>\n",
              "      <td>67</td>\n",
              "      <td>Short</td>\n",
              "      <td>C12</td>\n",
              "      <td>F10</td>\n",
              "      <td>Domestic</td>\n",
              "      <td>non-member</td>\n",
              "      <td>NaN</td>\n",
              "      <td>spoke departure</td>\n",
              "    </tr>\n",
              "    <tr>\n",
              "      <th>1</th>\n",
              "      <td>4645</td>\n",
              "      <td>COX</td>\n",
              "      <td>DEX</td>\n",
              "      <td>DRXXMH</td>\n",
              "      <td>9/1/2022</td>\n",
              "      <td>How satisfied were you with the food &amp; beverag...</td>\n",
              "      <td>5</td>\n",
              "      <td>Satisfied</td>\n",
              "      <td>food &amp; beverage</td>\n",
              "      <td>food and beverage satisfaction</td>\n",
              "      <td>...</td>\n",
              "      <td>E75</td>\n",
              "      <td>UAX</td>\n",
              "      <td>72</td>\n",
              "      <td>Short</td>\n",
              "      <td>5</td>\n",
              "      <td>B60</td>\n",
              "      <td>Domestic</td>\n",
              "      <td>member</td>\n",
              "      <td>GOGO</td>\n",
              "      <td>spoke departure</td>\n",
              "    </tr>\n",
              "    <tr>\n",
              "      <th>2</th>\n",
              "      <td>5236</td>\n",
              "      <td>COX</td>\n",
              "      <td>DEX</td>\n",
              "      <td>DEXXS1</td>\n",
              "      <td>9/1/2022</td>\n",
              "      <td>How satisfied were you with the food &amp; beverag...</td>\n",
              "      <td>5</td>\n",
              "      <td>Satisfied</td>\n",
              "      <td>food &amp; beverage</td>\n",
              "      <td>food and beverage satisfaction</td>\n",
              "      <td>...</td>\n",
              "      <td>E75</td>\n",
              "      <td>UAX</td>\n",
              "      <td>72</td>\n",
              "      <td>Short</td>\n",
              "      <td>7</td>\n",
              "      <td>A71</td>\n",
              "      <td>Domestic</td>\n",
              "      <td>member</td>\n",
              "      <td>GOGO</td>\n",
              "      <td>spoke departure</td>\n",
              "    </tr>\n",
              "    <tr>\n",
              "      <th>3</th>\n",
              "      <td>4686</td>\n",
              "      <td>DEX</td>\n",
              "      <td>COX</td>\n",
              "      <td>PXXXLH</td>\n",
              "      <td>9/1/2022</td>\n",
              "      <td>How satisfied were you with the food &amp; beverag...</td>\n",
              "      <td>3</td>\n",
              "      <td>Dissatisfied</td>\n",
              "      <td>food &amp; beverage</td>\n",
              "      <td>food and beverage satisfaction</td>\n",
              "      <td>...</td>\n",
              "      <td>CRJ</td>\n",
              "      <td>UAX</td>\n",
              "      <td>72</td>\n",
              "      <td>Short</td>\n",
              "      <td>B82</td>\n",
              "      <td>5</td>\n",
              "      <td>Domestic</td>\n",
              "      <td>member</td>\n",
              "      <td>NaN</td>\n",
              "      <td>hub departure</td>\n",
              "    </tr>\n",
              "    <tr>\n",
              "      <th>4</th>\n",
              "      <td>671</td>\n",
              "      <td>DEX</td>\n",
              "      <td>COX</td>\n",
              "      <td>KZXXH5</td>\n",
              "      <td>9/1/2022</td>\n",
              "      <td>How satisfied were you with the food &amp; beverag...</td>\n",
              "      <td>5</td>\n",
              "      <td>Satisfied</td>\n",
              "      <td>food &amp; beverage</td>\n",
              "      <td>food and beverage satisfaction</td>\n",
              "      <td>...</td>\n",
              "      <td>19F</td>\n",
              "      <td>UA</td>\n",
              "      <td>72</td>\n",
              "      <td>Short</td>\n",
              "      <td>B24</td>\n",
              "      <td>3</td>\n",
              "      <td>Domestic</td>\n",
              "      <td>member</td>\n",
              "      <td>PANASONIC</td>\n",
              "      <td>hub departure</td>\n",
              "    </tr>\n",
              "    <tr>\n",
              "      <th>...</th>\n",
              "      <td>...</td>\n",
              "      <td>...</td>\n",
              "      <td>...</td>\n",
              "      <td>...</td>\n",
              "      <td>...</td>\n",
              "      <td>...</td>\n",
              "      <td>...</td>\n",
              "      <td>...</td>\n",
              "      <td>...</td>\n",
              "      <td>...</td>\n",
              "      <td>...</td>\n",
              "      <td>...</td>\n",
              "      <td>...</td>\n",
              "      <td>...</td>\n",
              "      <td>...</td>\n",
              "      <td>...</td>\n",
              "      <td>...</td>\n",
              "      <td>...</td>\n",
              "      <td>...</td>\n",
              "      <td>...</td>\n",
              "      <td>...</td>\n",
              "    </tr>\n",
              "    <tr>\n",
              "      <th>47069</th>\n",
              "      <td>2</td>\n",
              "      <td>SFX</td>\n",
              "      <td>SIX</td>\n",
              "      <td>IPXXM3</td>\n",
              "      <td>9/30/2022</td>\n",
              "      <td>How satisfied were you with the food &amp; beverag...</td>\n",
              "      <td>4</td>\n",
              "      <td>Satisfied</td>\n",
              "      <td>food &amp; beverage</td>\n",
              "      <td>food and beverage satisfaction</td>\n",
              "      <td>...</td>\n",
              "      <td>78P</td>\n",
              "      <td>UA</td>\n",
              "      <td>8440</td>\n",
              "      <td>Long</td>\n",
              "      <td>G9</td>\n",
              "      <td>F52</td>\n",
              "      <td>International</td>\n",
              "      <td>non-member</td>\n",
              "      <td>PANASONIC</td>\n",
              "      <td>hub departure</td>\n",
              "    </tr>\n",
              "    <tr>\n",
              "      <th>47070</th>\n",
              "      <td>2</td>\n",
              "      <td>SFX</td>\n",
              "      <td>SIX</td>\n",
              "      <td>O5XXK4</td>\n",
              "      <td>9/30/2022</td>\n",
              "      <td>How satisfied were you with the food &amp; beverag...</td>\n",
              "      <td>4</td>\n",
              "      <td>Satisfied</td>\n",
              "      <td>food &amp; beverage</td>\n",
              "      <td>food and beverage satisfaction</td>\n",
              "      <td>...</td>\n",
              "      <td>78P</td>\n",
              "      <td>UA</td>\n",
              "      <td>8440</td>\n",
              "      <td>Long</td>\n",
              "      <td>G9</td>\n",
              "      <td>F52</td>\n",
              "      <td>International</td>\n",
              "      <td>member</td>\n",
              "      <td>PANASONIC</td>\n",
              "      <td>hub departure</td>\n",
              "    </tr>\n",
              "    <tr>\n",
              "      <th>47071</th>\n",
              "      <td>3</td>\n",
              "      <td>SIX</td>\n",
              "      <td>SFX</td>\n",
              "      <td>G8XX3W</td>\n",
              "      <td>9/30/2022</td>\n",
              "      <td>How satisfied were you with the food &amp; beverag...</td>\n",
              "      <td>1</td>\n",
              "      <td>Dissatisfied</td>\n",
              "      <td>food &amp; beverage</td>\n",
              "      <td>food and beverage satisfaction</td>\n",
              "      <td>...</td>\n",
              "      <td>78P</td>\n",
              "      <td>UA</td>\n",
              "      <td>8440</td>\n",
              "      <td>Long</td>\n",
              "      <td>F52</td>\n",
              "      <td>G2</td>\n",
              "      <td>International</td>\n",
              "      <td>member</td>\n",
              "      <td>PANASONIC</td>\n",
              "      <td>spoke departure</td>\n",
              "    </tr>\n",
              "    <tr>\n",
              "      <th>47072</th>\n",
              "      <td>3</td>\n",
              "      <td>SIX</td>\n",
              "      <td>SFX</td>\n",
              "      <td>G8XX3W</td>\n",
              "      <td>9/30/2022</td>\n",
              "      <td>What item did you choose?</td>\n",
              "      <td>chicken entrée</td>\n",
              "      <td>NaN</td>\n",
              "      <td>food &amp; beverage</td>\n",
              "      <td>comp</td>\n",
              "      <td>...</td>\n",
              "      <td>78P</td>\n",
              "      <td>UA</td>\n",
              "      <td>8440</td>\n",
              "      <td>Long</td>\n",
              "      <td>F52</td>\n",
              "      <td>G2</td>\n",
              "      <td>International</td>\n",
              "      <td>member</td>\n",
              "      <td>PANASONIC</td>\n",
              "      <td>spoke departure</td>\n",
              "    </tr>\n",
              "    <tr>\n",
              "      <th>47073</th>\n",
              "      <td>2</td>\n",
              "      <td>SFX</td>\n",
              "      <td>SIX</td>\n",
              "      <td>O5XXK4</td>\n",
              "      <td>9/30/2022</td>\n",
              "      <td>What item did you choose?</td>\n",
              "      <td>chicken entrée</td>\n",
              "      <td>NaN</td>\n",
              "      <td>food &amp; beverage</td>\n",
              "      <td>comp</td>\n",
              "      <td>...</td>\n",
              "      <td>78P</td>\n",
              "      <td>UA</td>\n",
              "      <td>8440</td>\n",
              "      <td>Long</td>\n",
              "      <td>G9</td>\n",
              "      <td>F52</td>\n",
              "      <td>International</td>\n",
              "      <td>member</td>\n",
              "      <td>PANASONIC</td>\n",
              "      <td>hub departure</td>\n",
              "    </tr>\n",
              "  </tbody>\n",
              "</table>\n",
              "<p>47074 rows × 31 columns</p>\n",
              "</div>\n",
              "    <div class=\"colab-df-buttons\">\n",
              "\n",
              "  <div class=\"colab-df-container\">\n",
              "    <button class=\"colab-df-convert\" onclick=\"convertToInteractive('df-06469295-1c3f-4126-9df4-6ff962c8a5b1')\"\n",
              "            title=\"Convert this dataframe to an interactive table.\"\n",
              "            style=\"display:none;\">\n",
              "\n",
              "  <svg xmlns=\"http://www.w3.org/2000/svg\" height=\"24px\" viewBox=\"0 -960 960 960\">\n",
              "    <path d=\"M120-120v-720h720v720H120Zm60-500h600v-160H180v160Zm220 220h160v-160H400v160Zm0 220h160v-160H400v160ZM180-400h160v-160H180v160Zm440 0h160v-160H620v160ZM180-180h160v-160H180v160Zm440 0h160v-160H620v160Z\"/>\n",
              "  </svg>\n",
              "    </button>\n",
              "\n",
              "  <style>\n",
              "    .colab-df-container {\n",
              "      display:flex;\n",
              "      gap: 12px;\n",
              "    }\n",
              "\n",
              "    .colab-df-convert {\n",
              "      background-color: #E8F0FE;\n",
              "      border: none;\n",
              "      border-radius: 50%;\n",
              "      cursor: pointer;\n",
              "      display: none;\n",
              "      fill: #1967D2;\n",
              "      height: 32px;\n",
              "      padding: 0 0 0 0;\n",
              "      width: 32px;\n",
              "    }\n",
              "\n",
              "    .colab-df-convert:hover {\n",
              "      background-color: #E2EBFA;\n",
              "      box-shadow: 0px 1px 2px rgba(60, 64, 67, 0.3), 0px 1px 3px 1px rgba(60, 64, 67, 0.15);\n",
              "      fill: #174EA6;\n",
              "    }\n",
              "\n",
              "    .colab-df-buttons div {\n",
              "      margin-bottom: 4px;\n",
              "    }\n",
              "\n",
              "    [theme=dark] .colab-df-convert {\n",
              "      background-color: #3B4455;\n",
              "      fill: #D2E3FC;\n",
              "    }\n",
              "\n",
              "    [theme=dark] .colab-df-convert:hover {\n",
              "      background-color: #434B5C;\n",
              "      box-shadow: 0px 1px 3px 1px rgba(0, 0, 0, 0.15);\n",
              "      filter: drop-shadow(0px 1px 2px rgba(0, 0, 0, 0.3));\n",
              "      fill: #FFFFFF;\n",
              "    }\n",
              "  </style>\n",
              "\n",
              "    <script>\n",
              "      const buttonEl =\n",
              "        document.querySelector('#df-06469295-1c3f-4126-9df4-6ff962c8a5b1 button.colab-df-convert');\n",
              "      buttonEl.style.display =\n",
              "        google.colab.kernel.accessAllowed ? 'block' : 'none';\n",
              "\n",
              "      async function convertToInteractive(key) {\n",
              "        const element = document.querySelector('#df-06469295-1c3f-4126-9df4-6ff962c8a5b1');\n",
              "        const dataTable =\n",
              "          await google.colab.kernel.invokeFunction('convertToInteractive',\n",
              "                                                    [key], {});\n",
              "        if (!dataTable) return;\n",
              "\n",
              "        const docLinkHtml = 'Like what you see? Visit the ' +\n",
              "          '<a target=\"_blank\" href=https://colab.research.google.com/notebooks/data_table.ipynb>data table notebook</a>'\n",
              "          + ' to learn more about interactive tables.';\n",
              "        element.innerHTML = '';\n",
              "        dataTable['output_type'] = 'display_data';\n",
              "        await google.colab.output.renderOutput(dataTable, element);\n",
              "        const docLink = document.createElement('div');\n",
              "        docLink.innerHTML = docLinkHtml;\n",
              "        element.appendChild(docLink);\n",
              "      }\n",
              "    </script>\n",
              "  </div>\n",
              "\n",
              "\n",
              "<div id=\"df-0c06aeca-0c9d-4670-8b10-1a138e41d729\">\n",
              "  <button class=\"colab-df-quickchart\" onclick=\"quickchart('df-0c06aeca-0c9d-4670-8b10-1a138e41d729')\"\n",
              "            title=\"Suggest charts\"\n",
              "            style=\"display:none;\">\n",
              "\n",
              "<svg xmlns=\"http://www.w3.org/2000/svg\" height=\"24px\"viewBox=\"0 0 24 24\"\n",
              "     width=\"24px\">\n",
              "    <g>\n",
              "        <path d=\"M19 3H5c-1.1 0-2 .9-2 2v14c0 1.1.9 2 2 2h14c1.1 0 2-.9 2-2V5c0-1.1-.9-2-2-2zM9 17H7v-7h2v7zm4 0h-2V7h2v10zm4 0h-2v-4h2v4z\"/>\n",
              "    </g>\n",
              "</svg>\n",
              "  </button>\n",
              "\n",
              "<style>\n",
              "  .colab-df-quickchart {\n",
              "      --bg-color: #E8F0FE;\n",
              "      --fill-color: #1967D2;\n",
              "      --hover-bg-color: #E2EBFA;\n",
              "      --hover-fill-color: #174EA6;\n",
              "      --disabled-fill-color: #AAA;\n",
              "      --disabled-bg-color: #DDD;\n",
              "  }\n",
              "\n",
              "  [theme=dark] .colab-df-quickchart {\n",
              "      --bg-color: #3B4455;\n",
              "      --fill-color: #D2E3FC;\n",
              "      --hover-bg-color: #434B5C;\n",
              "      --hover-fill-color: #FFFFFF;\n",
              "      --disabled-bg-color: #3B4455;\n",
              "      --disabled-fill-color: #666;\n",
              "  }\n",
              "\n",
              "  .colab-df-quickchart {\n",
              "    background-color: var(--bg-color);\n",
              "    border: none;\n",
              "    border-radius: 50%;\n",
              "    cursor: pointer;\n",
              "    display: none;\n",
              "    fill: var(--fill-color);\n",
              "    height: 32px;\n",
              "    padding: 0;\n",
              "    width: 32px;\n",
              "  }\n",
              "\n",
              "  .colab-df-quickchart:hover {\n",
              "    background-color: var(--hover-bg-color);\n",
              "    box-shadow: 0 1px 2px rgba(60, 64, 67, 0.3), 0 1px 3px 1px rgba(60, 64, 67, 0.15);\n",
              "    fill: var(--button-hover-fill-color);\n",
              "  }\n",
              "\n",
              "  .colab-df-quickchart-complete:disabled,\n",
              "  .colab-df-quickchart-complete:disabled:hover {\n",
              "    background-color: var(--disabled-bg-color);\n",
              "    fill: var(--disabled-fill-color);\n",
              "    box-shadow: none;\n",
              "  }\n",
              "\n",
              "  .colab-df-spinner {\n",
              "    border: 2px solid var(--fill-color);\n",
              "    border-color: transparent;\n",
              "    border-bottom-color: var(--fill-color);\n",
              "    animation:\n",
              "      spin 1s steps(1) infinite;\n",
              "  }\n",
              "\n",
              "  @keyframes spin {\n",
              "    0% {\n",
              "      border-color: transparent;\n",
              "      border-bottom-color: var(--fill-color);\n",
              "      border-left-color: var(--fill-color);\n",
              "    }\n",
              "    20% {\n",
              "      border-color: transparent;\n",
              "      border-left-color: var(--fill-color);\n",
              "      border-top-color: var(--fill-color);\n",
              "    }\n",
              "    30% {\n",
              "      border-color: transparent;\n",
              "      border-left-color: var(--fill-color);\n",
              "      border-top-color: var(--fill-color);\n",
              "      border-right-color: var(--fill-color);\n",
              "    }\n",
              "    40% {\n",
              "      border-color: transparent;\n",
              "      border-right-color: var(--fill-color);\n",
              "      border-top-color: var(--fill-color);\n",
              "    }\n",
              "    60% {\n",
              "      border-color: transparent;\n",
              "      border-right-color: var(--fill-color);\n",
              "    }\n",
              "    80% {\n",
              "      border-color: transparent;\n",
              "      border-right-color: var(--fill-color);\n",
              "      border-bottom-color: var(--fill-color);\n",
              "    }\n",
              "    90% {\n",
              "      border-color: transparent;\n",
              "      border-bottom-color: var(--fill-color);\n",
              "    }\n",
              "  }\n",
              "</style>\n",
              "\n",
              "  <script>\n",
              "    async function quickchart(key) {\n",
              "      const quickchartButtonEl =\n",
              "        document.querySelector('#' + key + ' button');\n",
              "      quickchartButtonEl.disabled = true;  // To prevent multiple clicks.\n",
              "      quickchartButtonEl.classList.add('colab-df-spinner');\n",
              "      try {\n",
              "        const charts = await google.colab.kernel.invokeFunction(\n",
              "            'suggestCharts', [key], {});\n",
              "      } catch (error) {\n",
              "        console.error('Error during call to suggestCharts:', error);\n",
              "      }\n",
              "      quickchartButtonEl.classList.remove('colab-df-spinner');\n",
              "      quickchartButtonEl.classList.add('colab-df-quickchart-complete');\n",
              "    }\n",
              "    (() => {\n",
              "      let quickchartButtonEl =\n",
              "        document.querySelector('#df-0c06aeca-0c9d-4670-8b10-1a138e41d729 button');\n",
              "      quickchartButtonEl.style.display =\n",
              "        google.colab.kernel.accessAllowed ? 'block' : 'none';\n",
              "    })();\n",
              "  </script>\n",
              "</div>\n",
              "    </div>\n",
              "  </div>\n"
            ]
          },
          "metadata": {},
          "execution_count": 133
        }
      ]
    },
    {
      "cell_type": "code",
      "source": [
        "# Cek apakah data sudah dibaca dengan baik, dan cek ada insight apa dari sini?\n",
        "df.info()"
      ],
      "metadata": {
        "colab": {
          "base_uri": "https://localhost:8080/"
        },
        "id": "Up1Pfcn-i2sC",
        "outputId": "6c227992-60b5-44ce-875a-f6c720b3d9e6"
      },
      "execution_count": 135,
      "outputs": [
        {
          "output_type": "stream",
          "name": "stdout",
          "text": [
            "<class 'pandas.core.frame.DataFrame'>\n",
            "RangeIndex: 47074 entries, 0 to 47073\n",
            "Data columns (total 31 columns):\n",
            " #   Column                            Non-Null Count  Dtype \n",
            "---  ------                            --------------  ----- \n",
            " 0   flight_number                     47074 non-null  int64 \n",
            " 1   origin_station_code               47074 non-null  object\n",
            " 2   destination_station_code          47074 non-null  object\n",
            " 3   record_locator                    47074 non-null  object\n",
            " 4   scheduled_departure_date          47074 non-null  object\n",
            " 5   question_text                     47074 non-null  object\n",
            " 6   score                             47074 non-null  object\n",
            " 7   satisfaction_type                 34963 non-null  object\n",
            " 8   driver_sub_group1                 47074 non-null  object\n",
            " 9   driver_sub_group2                 47074 non-null  object\n",
            " 10  arrival_delay_minutes             47074 non-null  int64 \n",
            " 11  arrival_delay_group               47074 non-null  object\n",
            " 12  cabin_code_desc                   47074 non-null  object\n",
            " 13  cabin_name                        27094 non-null  object\n",
            " 14  entity                            47071 non-null  object\n",
            " 15  number_of_legs                    47074 non-null  int64 \n",
            " 16  seat_factor_band                  47074 non-null  object\n",
            " 17  loyalty_program_level             35458 non-null  object\n",
            " 18  generation                        47074 non-null  object\n",
            " 19  fleet_type_description            47074 non-null  object\n",
            " 20  fleet_usage                       47074 non-null  object\n",
            " 21  equipment_type_code               47074 non-null  object\n",
            " 22  ua_uax                            47074 non-null  object\n",
            " 23  actual_flown_miles                47074 non-null  int64 \n",
            " 24  haul_type                         47074 non-null  object\n",
            " 25  departure_gate                    46977 non-null  object\n",
            " 26  arrival_gate                      46547 non-null  object\n",
            " 27  international_domestic_indicator  47074 non-null  object\n",
            " 28  response_group                    47074 non-null  object\n",
            " 29  media_provider                    45535 non-null  object\n",
            " 30  hub_spoke                         47074 non-null  object\n",
            "dtypes: int64(4), object(27)\n",
            "memory usage: 11.1+ MB\n"
          ]
        }
      ]
    },
    {
      "cell_type": "markdown",
      "source": [
        "menurut saya data sangat kompleks dan tidak semuanya relvan, jadi saya akan coba ambil bagian-bagian yang akan membantu saya mencapai objektif"
      ],
      "metadata": {
        "id": "4e-mMVZfpnHB"
      }
    },
    {
      "cell_type": "code",
      "source": [
        "# Memilah hanya kolom yang dibutuhkan sekaligus merubah urutan kolom\n",
        "df = df[['flight_number', 'scheduled_departure_date', 'actual_flown_miles', 'haul_type',\n",
        "          'international_domestic_indicator', 'generation', 'response_group', 'score'\n",
        "]]"
      ],
      "metadata": {
        "id": "FaIolut7psCw"
      },
      "execution_count": 136,
      "outputs": []
    },
    {
      "cell_type": "code",
      "source": [
        "# Simpan file sebagai csv baru, agar tidak ada peringatan as copy ke depannya\n",
        "df.to_csv('curated_survey_satisfaction_score.csv', index=False)\n",
        "\n",
        "# Mendifinikasikan dataframe dengan file csv baru\n",
        "path = ('/content/curated_survey_satisfaction_score.csv')\n",
        "df = pd.read_csv(path)\n",
        "\n",
        "df.info()"
      ],
      "metadata": {
        "colab": {
          "base_uri": "https://localhost:8080/"
        },
        "id": "URXo598pj7hI",
        "outputId": "cb4616ca-23ad-493a-97da-0261f87c78e3"
      },
      "execution_count": 137,
      "outputs": [
        {
          "output_type": "stream",
          "name": "stdout",
          "text": [
            "<class 'pandas.core.frame.DataFrame'>\n",
            "RangeIndex: 47074 entries, 0 to 47073\n",
            "Data columns (total 8 columns):\n",
            " #   Column                            Non-Null Count  Dtype \n",
            "---  ------                            --------------  ----- \n",
            " 0   flight_number                     47074 non-null  int64 \n",
            " 1   scheduled_departure_date          47074 non-null  object\n",
            " 2   actual_flown_miles                47074 non-null  int64 \n",
            " 3   haul_type                         47074 non-null  object\n",
            " 4   international_domestic_indicator  47074 non-null  object\n",
            " 5   generation                        47074 non-null  object\n",
            " 6   response_group                    47074 non-null  object\n",
            " 7   score                             47074 non-null  object\n",
            "dtypes: int64(2), object(6)\n",
            "memory usage: 2.9+ MB\n"
          ]
        }
      ]
    },
    {
      "cell_type": "markdown",
      "source": [
        "ok, dari sini saya akan coba membuat data dengan tipe semestinya, menganti nama kolom supaya lebih mudah dibaca tim internal saya, dan mencari apakah ada data-data yang *miss value*"
      ],
      "metadata": {
        "id": "5LUMh-Mcp_DJ"
      }
    },
    {
      "cell_type": "code",
      "source": [
        "# Ganti data type dari scheduled departure date\n",
        "df['scheduled_departure_date'] = pd.to_datetime(df['scheduled_departure_date'])\n",
        "# Buat kolom baru, bulan dan tanggal jika nanti dibutuhkan\n",
        "df['month'] = pd.DatetimeIndex(df['scheduled_departure_date']).month\n",
        "df['date'] = pd.DatetimeIndex(df['scheduled_departure_date']).day"
      ],
      "metadata": {
        "id": "1akGQCRQgsVY"
      },
      "execution_count": 138,
      "outputs": []
    },
    {
      "cell_type": "code",
      "source": [
        "# Ganti nama kolom supaya lebih ringkas dan mudah dipahami\n",
        "# Terminologi 'Membership' tidak boleh diganti oleh tim marketing klien\n",
        "df = df.rename(columns = {'flight_number' : 'nomor_penerbangan',\n",
        "                          'scheduled_departure_date' : 'jadwal_keberangkatan',\n",
        "                          'month' : 'bulan',\n",
        "                          'date' : 'tanggal',\n",
        "                          'haul_type' : 'kategori_jarak',\n",
        "                          'actual_flown_miles' : 'jarak_penerbangan',\n",
        "                          'international_domestic_indicator' : 'jenis_tujuan',\n",
        "                          'generation' : 'generasi',\n",
        "                          'response_group' : 'membership' ,  'score' : 'skor_kepuasan'\n",
        "                          })\n",
        "# Semua kolom diurutkan ulang\n",
        "df = df[['nomor_penerbangan', 'jadwal_keberangkatan', 'bulan', 'tanggal', 'kategori_jarak',\n",
        "         'jarak_penerbangan', 'jenis_tujuan', 'generasi', 'membership', 'skor_kepuasan'\n",
        "]]\n",
        "df.info()"
      ],
      "metadata": {
        "colab": {
          "base_uri": "https://localhost:8080/"
        },
        "id": "ztKtRNKUaNzu",
        "outputId": "de6c8c65-0d91-4f48-aecf-28e9ca58d006"
      },
      "execution_count": 139,
      "outputs": [
        {
          "output_type": "stream",
          "name": "stdout",
          "text": [
            "<class 'pandas.core.frame.DataFrame'>\n",
            "RangeIndex: 47074 entries, 0 to 47073\n",
            "Data columns (total 10 columns):\n",
            " #   Column                Non-Null Count  Dtype         \n",
            "---  ------                --------------  -----         \n",
            " 0   nomor_penerbangan     47074 non-null  int64         \n",
            " 1   jadwal_keberangkatan  47074 non-null  datetime64[ns]\n",
            " 2   bulan                 47074 non-null  int64         \n",
            " 3   tanggal               47074 non-null  int64         \n",
            " 4   kategori_jarak        47074 non-null  object        \n",
            " 5   jarak_penerbangan     47074 non-null  int64         \n",
            " 6   jenis_tujuan          47074 non-null  object        \n",
            " 7   generasi              47074 non-null  object        \n",
            " 8   membership            47074 non-null  object        \n",
            " 9   skor_kepuasan         47074 non-null  object        \n",
            "dtypes: datetime64[ns](1), int64(4), object(5)\n",
            "memory usage: 3.6+ MB\n"
          ]
        }
      ]
    },
    {
      "cell_type": "markdown",
      "source": [
        "Dikarenakan terdapat value selain angka, saya akan menghapus baris yang berisi selain angka dalam kolom skor_kepuasan"
      ],
      "metadata": {
        "id": "F4YKfoxRqsjz"
      }
    },
    {
      "cell_type": "code",
      "source": [
        "df = df[df['skor_kepuasan'].str.isnumeric()]"
      ],
      "metadata": {
        "id": "OFsifvArooto"
      },
      "execution_count": 140,
      "outputs": []
    },
    {
      "cell_type": "code",
      "source": [
        "df['skor_kepuasan'] = df['skor_kepuasan'].astype(int)"
      ],
      "metadata": {
        "id": "LXONRyKulNU6"
      },
      "execution_count": 141,
      "outputs": []
    },
    {
      "cell_type": "code",
      "source": [
        "df.info()"
      ],
      "metadata": {
        "colab": {
          "base_uri": "https://localhost:8080/"
        },
        "id": "BWPPjNy-qa40",
        "outputId": "6d10cdfa-18ab-46c1-eb7b-8e768072eed3"
      },
      "execution_count": 142,
      "outputs": [
        {
          "output_type": "stream",
          "name": "stdout",
          "text": [
            "<class 'pandas.core.frame.DataFrame'>\n",
            "Int64Index: 34963 entries, 0 to 47071\n",
            "Data columns (total 10 columns):\n",
            " #   Column                Non-Null Count  Dtype         \n",
            "---  ------                --------------  -----         \n",
            " 0   nomor_penerbangan     34963 non-null  int64         \n",
            " 1   jadwal_keberangkatan  34963 non-null  datetime64[ns]\n",
            " 2   bulan                 34963 non-null  int64         \n",
            " 3   tanggal               34963 non-null  int64         \n",
            " 4   kategori_jarak        34963 non-null  object        \n",
            " 5   jarak_penerbangan     34963 non-null  int64         \n",
            " 6   jenis_tujuan          34963 non-null  object        \n",
            " 7   generasi              34963 non-null  object        \n",
            " 8   membership            34963 non-null  object        \n",
            " 9   skor_kepuasan         34963 non-null  int64         \n",
            "dtypes: datetime64[ns](1), int64(5), object(4)\n",
            "memory usage: 2.9+ MB\n"
          ]
        }
      ]
    },
    {
      "cell_type": "markdown",
      "source": [
        "Ok semua kolom dan tipe data sudah sesuai. Selanjutnya cek missing value"
      ],
      "metadata": {
        "id": "sDioZX4frCOG"
      }
    },
    {
      "cell_type": "code",
      "source": [
        "df.isnull().sum()"
      ],
      "metadata": {
        "colab": {
          "base_uri": "https://localhost:8080/"
        },
        "id": "ZD03rz7zlWBq",
        "outputId": "305b411a-ba24-4f6f-8bac-007c156f0836"
      },
      "execution_count": 143,
      "outputs": [
        {
          "output_type": "execute_result",
          "data": {
            "text/plain": [
              "nomor_penerbangan       0\n",
              "jadwal_keberangkatan    0\n",
              "bulan                   0\n",
              "tanggal                 0\n",
              "kategori_jarak          0\n",
              "jarak_penerbangan       0\n",
              "jenis_tujuan            0\n",
              "generasi                0\n",
              "membership              0\n",
              "skor_kepuasan           0\n",
              "dtype: int64"
            ]
          },
          "metadata": {},
          "execution_count": 143
        }
      ]
    },
    {
      "cell_type": "markdown",
      "source": [
        "tidak ada missing value\n",
        "saya bisa lanjut ke tahap analisa"
      ],
      "metadata": {
        "id": "mESMOCC3rNx1"
      }
    },
    {
      "cell_type": "markdown",
      "source": [
        "# Analisa Desktriptif"
      ],
      "metadata": {
        "id": "jmz0foC7dB0F"
      }
    },
    {
      "cell_type": "markdown",
      "source": [
        "## Komposisi Membership\n",
        "Menghitung komposisi berapa sampel dari data yang ada"
      ],
      "metadata": {
        "id": "4s6z2U4qdD9W"
      }
    },
    {
      "cell_type": "code",
      "source": [
        "# sebelumnya cek value unik dari kolom membership\n",
        "kategori_membership = df['membership'].unique()\n",
        "jumlah_kategori_membership = df['membership'].nunique()\n",
        "print('Kategori membership dalam data ada', jumlah_kategori_membership , 'yaitu:\\n' , kategori_membership)"
      ],
      "metadata": {
        "colab": {
          "base_uri": "https://localhost:8080/"
        },
        "id": "QG13_Xg4xE83",
        "outputId": "7cf0fd70-6bb8-4449-d8fc-d557639475aa"
      },
      "execution_count": 144,
      "outputs": [
        {
          "output_type": "stream",
          "name": "stdout",
          "text": [
            "Kategori membership dalam data ada 3 yaitu:\n",
            " ['non-member' 'member' 'NBK']\n"
          ]
        }
      ]
    },
    {
      "cell_type": "markdown",
      "source": [
        "Kategori membership terbagi menjadi 2 sebetulnya. Hanya ada Member dan non-member. Atas permintaan klien, kategori NBK akan saya rubah menjadi Member"
      ],
      "metadata": {
        "id": "XLw3DEqDrh1R"
      }
    },
    {
      "cell_type": "code",
      "source": [
        "# atas arahan klien, kategori NBK, dianggap bukan Member\n",
        "# ganti NBK menjadi Member\n",
        "df['membership'] = df['membership'].str.replace('NBK','member')"
      ],
      "metadata": {
        "id": "rBidK6i1yDYW"
      },
      "execution_count": 145,
      "outputs": []
    },
    {
      "cell_type": "markdown",
      "source": [
        "Selesai.\n",
        "Selanjutnya saya akan cek perbandingan Member dan non-Member"
      ],
      "metadata": {
        "id": "LwzoVB9frw9-"
      }
    },
    {
      "cell_type": "code",
      "source": [
        "# perbandingan Member dan Non Member\n",
        "komposisi_membership = df['membership'].value_counts()\n",
        "desimal_membership = komposisi_membership / len(df)\n",
        "persentase_membership = desimal_membership.map(lambda x: f\"{x:.2%}\")\n",
        "print('Komposisi Jumlah Membership adalah:\\n', komposisi_membership, '\\n\\nDalam persentase:\\n' , persentase_membership)"
      ],
      "metadata": {
        "colab": {
          "base_uri": "https://localhost:8080/"
        },
        "id": "FaWg33Jb1Zof",
        "outputId": "0f8e3429-beed-40c1-8164-fb9ea55c7713"
      },
      "execution_count": 146,
      "outputs": [
        {
          "output_type": "stream",
          "name": "stdout",
          "text": [
            "Komposisi Jumlah Membership adalah:\n",
            " member        25529\n",
            "non-member     9434\n",
            "Name: membership, dtype: int64 \n",
            "\n",
            "Dalam persentase:\n",
            " member        73.02%\n",
            "non-member    26.98%\n",
            "Name: membership, dtype: object\n"
          ]
        }
      ]
    },
    {
      "cell_type": "markdown",
      "source": [
        "Ternyata member perusahaan ini cukup banyak dari sampel yang saya miliki yaitu sebesar 73%.\n",
        "\n",
        "Saya akan coba gambarkan dalam bentuk grafik"
      ],
      "metadata": {
        "id": "wC1nEUS0r4xN"
      }
    },
    {
      "cell_type": "code",
      "source": [
        "import matplotlib.pyplot as plt\n",
        "\n",
        "persentase_membership_m = desimal_membership / len(df)\n",
        "\n",
        "colors = ['#1D3D71', '#F26634', '#1D3D71']\n",
        "fig, ax = plt.subplots()\n",
        "pie, texts, autotexts = ax.pie (persentase_membership_m,\n",
        "        labels=persentase_membership_m.index,\n",
        "        autopct = '%1.1f%%', colors = colors,\n",
        "        startangle=90, textprops ={'color': 'white'},\n",
        "        labeldistance = 1.15)\n",
        "\n",
        "texts[0].set_color(colors[2])\n",
        "texts[1].set_color(colors[2])\n",
        "# texts[2].set_color(colors[2])\n",
        "\n",
        "autotexts[1].set_color('#1D3D71')\n",
        "\n",
        "ax.axis('equal')\n",
        "\n",
        "\n",
        "plt.title('Komposisi Jumlah Membership')\n",
        "plt.show()"
      ],
      "metadata": {
        "colab": {
          "base_uri": "https://localhost:8080/",
          "height": 428
        },
        "id": "t5Bg81y9jfnU",
        "outputId": "fa82725d-e820-45a1-c7d7-ab407affbcde"
      },
      "execution_count": 147,
      "outputs": [
        {
          "output_type": "display_data",
          "data": {
            "text/plain": [
              "<Figure size 640x480 with 1 Axes>"
            ],
            "image/png": "[encoded data removed]"
          },
          "metadata": {}
        }
      ]
    },
    {
      "cell_type": "markdown",
      "source": [
        "## Perhitungan Kepuasan Member\n",
        "\n",
        "Selanjutnya saya akan mengukur tingkat kepuasan member dengan nilai sebagai berikut:\n",
        "\n",
        "1 = Sangat Tidak Puas\n",
        "\n",
        "2 = Tidak Puas\n",
        "\n",
        "3 = Netral\n",
        "\n",
        "4 = Puas\n",
        "\n",
        "5 = Sangat Puas\n",
        "\n"
      ],
      "metadata": {
        "id": "eCygtvJi4yAP"
      }
    },
    {
      "cell_type": "code",
      "source": [
        "# Saya akan mencari tahu apakah member cenderung puas atau tidak?\n",
        "sangat_puas = df[df['membership'] == 'member']['skor_kepuasan'].eq(5).sum()\n",
        "puas = df[df['membership'] == 'member']['skor_kepuasan'].eq(4).sum()\n",
        "netral = df[df['membership'] == 'member']['skor_kepuasan'].eq(3).sum()\n",
        "tidak_puas = df[df['membership'] == 'member']['skor_kepuasan'].eq(2).sum()\n",
        "sangat_tidak_puas = df[df['membership'] == 'member']['skor_kepuasan'].eq(1).sum()\n",
        "\n",
        "print(\"Member yang SANGAT PUAS berjumlah\", sangat_puas, \"Member\")\n",
        "print(\"Member yang PUAS berjumlah\", puas, \"Member\")\n",
        "print(\"Member yang NETRAL berjumlah\", netral, \"Member\")\n",
        "print(\"Member yang TIDAK PUAS berjumlah\", tidak_puas, \"Member\")\n",
        "print(\"Member yang SANGAT TIDAK PUAS berjumlah\", sangat_tidak_puas, \"Member\")\n"
      ],
      "metadata": {
        "colab": {
          "base_uri": "https://localhost:8080/"
        },
        "id": "BE1LIBH74TT8",
        "outputId": "4411e4e6-b6e4-41c9-fbfc-5a911952fa78"
      },
      "execution_count": 148,
      "outputs": [
        {
          "output_type": "stream",
          "name": "stdout",
          "text": [
            "Member yang SANGAT PUAS berjumlah 4734 Member\n",
            "Member yang PUAS berjumlah 4300 Member\n",
            "Member yang NETRAL berjumlah 4493 Member\n",
            "Member yang TIDAK PUAS berjumlah 6201 Member\n",
            "Member yang SANGAT TIDAK PUAS berjumlah 5801 Member\n"
          ]
        }
      ]
    },
    {
      "cell_type": "markdown",
      "source": [
        "Berikut visualisasinya"
      ],
      "metadata": {
        "id": "pN_VktFVstQT"
      }
    },
    {
      "cell_type": "code",
      "source": [
        "labels = ['SANGAT PUAS', 'PUAS', 'NETRAL' , 'TIDAK PUAS' , 'SANGAT TIDAK PUAS']\n",
        "values = [sangat_puas , puas , netral , tidak_puas , sangat_tidak_puas]\n",
        "colors = ['#1D3D71' , '#F26634' , '#639FAB' , '#946E83' , '#7EB2DD']\n",
        "\n",
        "fig, ax = plt.subplots()\n",
        "bars = ax.bar(labels, values, color = colors)\n",
        "\n",
        "for bar, value in zip(\n",
        "    bars, values):\n",
        "  plt.text(bar.get_x() + bar.get_width() / 2 - 0.1,\n",
        "           bar.get_height() + 0.1, str(value),\n",
        "           color = 'black')\n",
        "\n",
        "plt.title('Skor Kepuasan Member')\n",
        "plt.xlabel('Skor Kepuasan')\n",
        "plt.ylabel('Jumlah Member')\n",
        "plt.show()"
      ],
      "metadata": {
        "colab": {
          "base_uri": "https://localhost:8080/",
          "height": 472
        },
        "id": "8o4SXoxhsNtN",
        "outputId": "06348ea0-90d0-4f48-b44a-df1b5dc799c2"
      },
      "execution_count": 149,
      "outputs": [
        {
          "output_type": "display_data",
          "data": {
            "text/plain": [
              "<Figure size 640x480 with 1 Axes>"
            ],
            "image/png": "[encoded data removed]"
          },
          "metadata": {}
        }
      ]
    },
    {
      "cell_type": "markdown",
      "source": [
        "Ternyata sangat banyak yang tidak puas\n",
        "Saya akan cek central tendency nya"
      ],
      "metadata": {
        "id": "QOLZFaQbswYO"
      }
    },
    {
      "cell_type": "markdown",
      "source": [
        "## Central tendency skor kepuasan member"
      ],
      "metadata": {
        "id": "qHAPOpIWw8B0"
      }
    },
    {
      "cell_type": "code",
      "source": [
        "# Describe skor kepuasam member\n",
        "df[df['membership'] == 'member']['skor_kepuasan'].describe()"
      ],
      "metadata": {
        "colab": {
          "base_uri": "https://localhost:8080/"
        },
        "id": "TV7iE-J-aLEC",
        "outputId": "ec8fa973-d52e-4355-9ff8-874840239fc3"
      },
      "execution_count": 150,
      "outputs": [
        {
          "output_type": "execute_result",
          "data": {
            "text/plain": [
              "count    25529.000000\n",
              "mean         2.841944\n",
              "std          1.427272\n",
              "min          1.000000\n",
              "25%          2.000000\n",
              "50%          3.000000\n",
              "75%          4.000000\n",
              "max          5.000000\n",
              "Name: skor_kepuasan, dtype: float64"
            ]
          },
          "metadata": {},
          "execution_count": 150
        }
      ]
    },
    {
      "cell_type": "markdown",
      "source": [
        "Benar saja, angka rata-rata kepuasan di bawah 3. Dengan kata lain rata-rata member di bawah berada di tidak puas dan netral"
      ],
      "metadata": {
        "id": "WLkPTUIZs623"
      }
    },
    {
      "cell_type": "markdown",
      "source": [
        "## Central tendency kepuasan member berdasarkan kategori jarak"
      ],
      "metadata": {
        "id": "Ftxuz7K1xSPv"
      }
    },
    {
      "cell_type": "markdown",
      "source": [
        "Sekarang saya akan lebih spesifik membandingkan skor kepuasan dengan kategori jarak penerbangan.\n",
        "\n",
        "Sebelumnya saya perlu tahu terlebih dahulu, ada kategori apa sajakah itu?\n",
        "\n",
        "Berikut adalah rinciannya:"
      ],
      "metadata": {
        "id": "KZ5d2YFgtJI-"
      }
    },
    {
      "cell_type": "code",
      "source": [
        "print('Kategori jarak yang ada dalam data:\\n', df['kategori_jarak'].unique())"
      ],
      "metadata": {
        "colab": {
          "base_uri": "https://localhost:8080/"
        },
        "id": "UCVLO-Ub0Ioa",
        "outputId": "e4edbc08-bdfe-4bc5-dc44-1e59987e1482"
      },
      "execution_count": 151,
      "outputs": [
        {
          "output_type": "stream",
          "name": "stdout",
          "text": [
            "Kategori jarak yang ada dalam data:\n",
            " ['Short' 'Medium' 'Long']\n"
          ]
        }
      ]
    },
    {
      "cell_type": "markdown",
      "source": [
        "Sekarang saya akan lihat central tendency skor kepuasan terhadap jarak tempuh"
      ],
      "metadata": {
        "id": "iKrVpIJ3ta_y"
      }
    },
    {
      "cell_type": "code",
      "source": [
        "df[df['membership'] == 'member'].groupby('kategori_jarak')['skor_kepuasan'].describe()"
      ],
      "metadata": {
        "colab": {
          "base_uri": "https://localhost:8080/",
          "height": 173
        },
        "id": "T7qcR7JZdUad",
        "outputId": "7baa25ed-8c8f-415c-8aff-ec27ffdbe30c"
      },
      "execution_count": 152,
      "outputs": [
        {
          "output_type": "execute_result",
          "data": {
            "text/plain": [
              "                  count      mean       std  min  25%  50%  75%  max\n",
              "kategori_jarak                                                      \n",
              "Long             7172.0  2.653653  1.417743  1.0  1.0  2.0  4.0  5.0\n",
              "Medium          15472.0  2.929033  1.427182  1.0  2.0  3.0  4.0  5.0\n",
              "Short            2885.0  2.842981  1.406576  1.0  2.0  3.0  4.0  5.0"
            ],
            "text/html": [
              "\n",
              "  <div id=\"df-27404060-5d83-4265-9544-924a902865ae\" class=\"colab-df-container\">\n",
              "    <div>\n",
              "<style scoped>\n",
              "    .dataframe tbody tr th:only-of-type {\n",
              "        vertical-align: middle;\n",
              "    }\n",
              "\n",
              "    .dataframe tbody tr th {\n",
              "        vertical-align: top;\n",
              "    }\n",
              "\n",
              "    .dataframe thead th {\n",
              "        text-align: right;\n",
              "    }\n",
              "</style>\n",
              "<table border=\"1\" class=\"dataframe\">\n",
              "  <thead>\n",
              "    <tr style=\"text-align: right;\">\n",
              "      <th></th>\n",
              "      <th>count</th>\n",
              "      <th>mean</th>\n",
              "      <th>std</th>\n",
              "      <th>min</th>\n",
              "      <th>25%</th>\n",
              "      <th>50%</th>\n",
              "      <th>75%</th>\n",
              "      <th>max</th>\n",
              "    </tr>\n",
              "    <tr>\n",
              "      <th>kategori_jarak</th>\n",
              "      <th></th>\n",
              "      <th></th>\n",
              "      <th></th>\n",
              "      <th></th>\n",
              "      <th></th>\n",
              "      <th></th>\n",
              "      <th></th>\n",
              "      <th></th>\n",
              "    </tr>\n",
              "  </thead>\n",
              "  <tbody>\n",
              "    <tr>\n",
              "      <th>Long</th>\n",
              "      <td>7172.0</td>\n",
              "      <td>2.653653</td>\n",
              "      <td>1.417743</td>\n",
              "      <td>1.0</td>\n",
              "      <td>1.0</td>\n",
              "      <td>2.0</td>\n",
              "      <td>4.0</td>\n",
              "      <td>5.0</td>\n",
              "    </tr>\n",
              "    <tr>\n",
              "      <th>Medium</th>\n",
              "      <td>15472.0</td>\n",
              "      <td>2.929033</td>\n",
              "      <td>1.427182</td>\n",
              "      <td>1.0</td>\n",
              "      <td>2.0</td>\n",
              "      <td>3.0</td>\n",
              "      <td>4.0</td>\n",
              "      <td>5.0</td>\n",
              "    </tr>\n",
              "    <tr>\n",
              "      <th>Short</th>\n",
              "      <td>2885.0</td>\n",
              "      <td>2.842981</td>\n",
              "      <td>1.406576</td>\n",
              "      <td>1.0</td>\n",
              "      <td>2.0</td>\n",
              "      <td>3.0</td>\n",
              "      <td>4.0</td>\n",
              "      <td>5.0</td>\n",
              "    </tr>\n",
              "  </tbody>\n",
              "</table>\n",
              "</div>\n",
              "    <div class=\"colab-df-buttons\">\n",
              "\n",
              "  <div class=\"colab-df-container\">\n",
              "    <button class=\"colab-df-convert\" onclick=\"convertToInteractive('df-27404060-5d83-4265-9544-924a902865ae')\"\n",
              "            title=\"Convert this dataframe to an interactive table.\"\n",
              "            style=\"display:none;\">\n",
              "\n",
              "  <svg xmlns=\"http://www.w3.org/2000/svg\" height=\"24px\" viewBox=\"0 -960 960 960\">\n",
              "    <path d=\"M120-120v-720h720v720H120Zm60-500h600v-160H180v160Zm220 220h160v-160H400v160Zm0 220h160v-160H400v160ZM180-400h160v-160H180v160Zm440 0h160v-160H620v160ZM180-180h160v-160H180v160Zm440 0h160v-160H620v160Z\"/>\n",
              "  </svg>\n",
              "    </button>\n",
              "\n",
              "  <style>\n",
              "    .colab-df-container {\n",
              "      display:flex;\n",
              "      gap: 12px;\n",
              "    }\n",
              "\n",
              "    .colab-df-convert {\n",
              "      background-color: #E8F0FE;\n",
              "      border: none;\n",
              "      border-radius: 50%;\n",
              "      cursor: pointer;\n",
              "      display: none;\n",
              "      fill: #1967D2;\n",
              "      height: 32px;\n",
              "      padding: 0 0 0 0;\n",
              "      width: 32px;\n",
              "    }\n",
              "\n",
              "    .colab-df-convert:hover {\n",
              "      background-color: #E2EBFA;\n",
              "      box-shadow: 0px 1px 2px rgba(60, 64, 67, 0.3), 0px 1px 3px 1px rgba(60, 64, 67, 0.15);\n",
              "      fill: #174EA6;\n",
              "    }\n",
              "\n",
              "    .colab-df-buttons div {\n",
              "      margin-bottom: 4px;\n",
              "    }\n",
              "\n",
              "    [theme=dark] .colab-df-convert {\n",
              "      background-color: #3B4455;\n",
              "      fill: #D2E3FC;\n",
              "    }\n",
              "\n",
              "    [theme=dark] .colab-df-convert:hover {\n",
              "      background-color: #434B5C;\n",
              "      box-shadow: 0px 1px 3px 1px rgba(0, 0, 0, 0.15);\n",
              "      filter: drop-shadow(0px 1px 2px rgba(0, 0, 0, 0.3));\n",
              "      fill: #FFFFFF;\n",
              "    }\n",
              "  </style>\n",
              "\n",
              "    <script>\n",
              "      const buttonEl =\n",
              "        document.querySelector('#df-27404060-5d83-4265-9544-924a902865ae button.colab-df-convert');\n",
              "      buttonEl.style.display =\n",
              "        google.colab.kernel.accessAllowed ? 'block' : 'none';\n",
              "\n",
              "      async function convertToInteractive(key) {\n",
              "        const element = document.querySelector('#df-27404060-5d83-4265-9544-924a902865ae');\n",
              "        const dataTable =\n",
              "          await google.colab.kernel.invokeFunction('convertToInteractive',\n",
              "                                                    [key], {});\n",
              "        if (!dataTable) return;\n",
              "\n",
              "        const docLinkHtml = 'Like what you see? Visit the ' +\n",
              "          '<a target=\"_blank\" href=https://colab.research.google.com/notebooks/data_table.ipynb>data table notebook</a>'\n",
              "          + ' to learn more about interactive tables.';\n",
              "        element.innerHTML = '';\n",
              "        dataTable['output_type'] = 'display_data';\n",
              "        await google.colab.output.renderOutput(dataTable, element);\n",
              "        const docLink = document.createElement('div');\n",
              "        docLink.innerHTML = docLinkHtml;\n",
              "        element.appendChild(docLink);\n",
              "      }\n",
              "    </script>\n",
              "  </div>\n",
              "\n",
              "\n",
              "<div id=\"df-9d53a5d4-dc3d-45ba-90ce-c4c193f6d6e1\">\n",
              "  <button class=\"colab-df-quickchart\" onclick=\"quickchart('df-9d53a5d4-dc3d-45ba-90ce-c4c193f6d6e1')\"\n",
              "            title=\"Suggest charts\"\n",
              "            style=\"display:none;\">\n",
              "\n",
              "<svg xmlns=\"http://www.w3.org/2000/svg\" height=\"24px\"viewBox=\"0 0 24 24\"\n",
              "     width=\"24px\">\n",
              "    <g>\n",
              "        <path d=\"M19 3H5c-1.1 0-2 .9-2 2v14c0 1.1.9 2 2 2h14c1.1 0 2-.9 2-2V5c0-1.1-.9-2-2-2zM9 17H7v-7h2v7zm4 0h-2V7h2v10zm4 0h-2v-4h2v4z\"/>\n",
              "    </g>\n",
              "</svg>\n",
              "  </button>\n",
              "\n",
              "<style>\n",
              "  .colab-df-quickchart {\n",
              "      --bg-color: #E8F0FE;\n",
              "      --fill-color: #1967D2;\n",
              "      --hover-bg-color: #E2EBFA;\n",
              "      --hover-fill-color: #174EA6;\n",
              "      --disabled-fill-color: #AAA;\n",
              "      --disabled-bg-color: #DDD;\n",
              "  }\n",
              "\n",
              "  [theme=dark] .colab-df-quickchart {\n",
              "      --bg-color: #3B4455;\n",
              "      --fill-color: #D2E3FC;\n",
              "      --hover-bg-color: #434B5C;\n",
              "      --hover-fill-color: #FFFFFF;\n",
              "      --disabled-bg-color: #3B4455;\n",
              "      --disabled-fill-color: #666;\n",
              "  }\n",
              "\n",
              "  .colab-df-quickchart {\n",
              "    background-color: var(--bg-color);\n",
              "    border: none;\n",
              "    border-radius: 50%;\n",
              "    cursor: pointer;\n",
              "    display: none;\n",
              "    fill: var(--fill-color);\n",
              "    height: 32px;\n",
              "    padding: 0;\n",
              "    width: 32px;\n",
              "  }\n",
              "\n",
              "  .colab-df-quickchart:hover {\n",
              "    background-color: var(--hover-bg-color);\n",
              "    box-shadow: 0 1px 2px rgba(60, 64, 67, 0.3), 0 1px 3px 1px rgba(60, 64, 67, 0.15);\n",
              "    fill: var(--button-hover-fill-color);\n",
              "  }\n",
              "\n",
              "  .colab-df-quickchart-complete:disabled,\n",
              "  .colab-df-quickchart-complete:disabled:hover {\n",
              "    background-color: var(--disabled-bg-color);\n",
              "    fill: var(--disabled-fill-color);\n",
              "    box-shadow: none;\n",
              "  }\n",
              "\n",
              "  .colab-df-spinner {\n",
              "    border: 2px solid var(--fill-color);\n",
              "    border-color: transparent;\n",
              "    border-bottom-color: var(--fill-color);\n",
              "    animation:\n",
              "      spin 1s steps(1) infinite;\n",
              "  }\n",
              "\n",
              "  @keyframes spin {\n",
              "    0% {\n",
              "      border-color: transparent;\n",
              "      border-bottom-color: var(--fill-color);\n",
              "      border-left-color: var(--fill-color);\n",
              "    }\n",
              "    20% {\n",
              "      border-color: transparent;\n",
              "      border-left-color: var(--fill-color);\n",
              "      border-top-color: var(--fill-color);\n",
              "    }\n",
              "    30% {\n",
              "      border-color: transparent;\n",
              "      border-left-color: var(--fill-color);\n",
              "      border-top-color: var(--fill-color);\n",
              "      border-right-color: var(--fill-color);\n",
              "    }\n",
              "    40% {\n",
              "      border-color: transparent;\n",
              "      border-right-color: var(--fill-color);\n",
              "      border-top-color: var(--fill-color);\n",
              "    }\n",
              "    60% {\n",
              "      border-color: transparent;\n",
              "      border-right-color: var(--fill-color);\n",
              "    }\n",
              "    80% {\n",
              "      border-color: transparent;\n",
              "      border-right-color: var(--fill-color);\n",
              "      border-bottom-color: var(--fill-color);\n",
              "    }\n",
              "    90% {\n",
              "      border-color: transparent;\n",
              "      border-bottom-color: var(--fill-color);\n",
              "    }\n",
              "  }\n",
              "</style>\n",
              "\n",
              "  <script>\n",
              "    async function quickchart(key) {\n",
              "      const quickchartButtonEl =\n",
              "        document.querySelector('#' + key + ' button');\n",
              "      quickchartButtonEl.disabled = true;  // To prevent multiple clicks.\n",
              "      quickchartButtonEl.classList.add('colab-df-spinner');\n",
              "      try {\n",
              "        const charts = await google.colab.kernel.invokeFunction(\n",
              "            'suggestCharts', [key], {});\n",
              "      } catch (error) {\n",
              "        console.error('Error during call to suggestCharts:', error);\n",
              "      }\n",
              "      quickchartButtonEl.classList.remove('colab-df-spinner');\n",
              "      quickchartButtonEl.classList.add('colab-df-quickchart-complete');\n",
              "    }\n",
              "    (() => {\n",
              "      let quickchartButtonEl =\n",
              "        document.querySelector('#df-9d53a5d4-dc3d-45ba-90ce-c4c193f6d6e1 button');\n",
              "      quickchartButtonEl.style.display =\n",
              "        google.colab.kernel.accessAllowed ? 'block' : 'none';\n",
              "    })();\n",
              "  </script>\n",
              "</div>\n",
              "    </div>\n",
              "  </div>\n"
            ]
          },
          "metadata": {},
          "execution_count": 152
        }
      ]
    },
    {
      "cell_type": "markdown",
      "source": [
        "Sekilas saya bisa lihat data skor terdistribusi dengan normal, dengan rata-rata skor paling tinggi adalah pada kategori jarak menegah"
      ],
      "metadata": {
        "id": "JH0Fwv4St0K7"
      }
    },
    {
      "cell_type": "markdown",
      "source": [
        "# Inferensial"
      ],
      "metadata": {
        "id": "uG26nHivTt5z"
      }
    },
    {
      "cell_type": "markdown",
      "source": [
        "## Pengaruh kategori jarak terhadap kepuasan member"
      ],
      "metadata": {
        "id": "fKVUe_MlNSOk"
      }
    },
    {
      "cell_type": "markdown",
      "source": [
        "Saya sudah masuk ke tahapan terakhir untuk poin menguji apakah ada hubungan erat antara jarak dengan skor kepuasan.\n",
        "\n",
        "Hipotesa saya, ada pengaruh antara ke dua hal tersebut.\n",
        "\n",
        "H0 = Tidak ada perbedaan signifikan antara jarak dan skor kepuasan member\n",
        "H1 = Ada perbedaan sginifikan antar keduanya.\n",
        "\n",
        "Saya akan melakukan pengujian dengan Anova yang cocok untuk menganalisa 2 atau lebih hubungan yang bersifat kategorik. Skor adalah kategorik, begitupun dengan kategori jarak. Bukan jaraknya.\n",
        "\n",
        "Berikut pengujiannya"
      ],
      "metadata": {
        "id": "4X8Sefqvt42C"
      }
    },
    {
      "cell_type": "code",
      "source": [
        "anovatest_jarak = f_oneway(df['skor_kepuasan'][df['kategori_jarak'] == 'Short'],\n",
        "                           df['skor_kepuasan'][df['kategori_jarak'] == 'Medium'],\n",
        "                           df['skor_kepuasan'][df['kategori_jarak'] == 'Long'])\n",
        "print(f\"Hasil uji ANOVA yang dijalankan adalah sebagai berikut:\\n\\nStatistik uji F: {anovatest_jarak.statistic}\\np-value: {anovatest_jarak.pvalue}\")\n",
        "\n",
        "alpha = 0.05\n",
        "if anovatest_jarak.pvalue < alpha:\n",
        "  print(\"Perbedaan itu ada sginifikan di antara 2 kategori tersebut (Tolak H0)\")\n",
        "else:\n",
        "  print(\"Tidak ada perbedaan signifikan (Terima H0)\")"
      ],
      "metadata": {
        "colab": {
          "base_uri": "https://localhost:8080/"
        },
        "id": "bhrPxFM6-srO",
        "outputId": "a8cc5c20-a23a-42c1-8777-25c4c51c1e3f"
      },
      "execution_count": 153,
      "outputs": [
        {
          "output_type": "stream",
          "name": "stdout",
          "text": [
            "Hasil uji ANOVA yang dijalankan adalah sebagai berikut:\n",
            "\n",
            "Statistik uji F: 114.68042357854482\n",
            "p-value: 2.2781954785764227e-50\n",
            "Perbedaan itu ada sginifikan di antara 2 kategori tersebut (Tolak H0)\n"
          ]
        }
      ]
    },
    {
      "cell_type": "markdown",
      "source": [
        "Diketahui bahwa p-value jauh berada di bawah alpha sehingga Hipotesis 0 ditolak. Dengan kata lain ada perbedaan yang sangat signifikan antara jarak dan kepuasan terhadap pelayanan F&B"
      ],
      "metadata": {
        "id": "M4Uc6ZCrSkeY"
      }
    },
    {
      "cell_type": "markdown",
      "source": [
        "# Deskriptif"
      ],
      "metadata": {
        "id": "u1G7syK8UEVc"
      }
    },
    {
      "cell_type": "markdown",
      "source": [
        "## Komposisi member berdasarkan generasi\n",
        "Saya akan masuk ke key result no 2 yaitu untuk mencari tahu mungkin saja ada pengaruh antara generasi dengan skor kepuasan member.\n",
        "\n",
        "Sebelum melakukan pengujian, saya harus tahu terlebih dahulu apa saja generasi yang ada di member?\n",
        "\n"
      ],
      "metadata": {
        "id": "VzqiAj3RNXM0"
      }
    },
    {
      "cell_type": "code",
      "source": [
        "print('Kategori generasi yang ada dalam data:\\n', df['generasi'].unique())"
      ],
      "metadata": {
        "colab": {
          "base_uri": "https://localhost:8080/"
        },
        "id": "cpjBxsX00ue2",
        "outputId": "e7c83e14-82e6-428b-9225-ea89cf3e41ff"
      },
      "execution_count": 124,
      "outputs": [
        {
          "output_type": "stream",
          "name": "stdout",
          "text": [
            "Kategori generasi yang ada dalam data:\n",
            " ['Gen X' 'Boomer' 'Silent' 'Gen Z' 'Millennial' 'Greatest' 'NBK']\n"
          ]
        }
      ]
    },
    {
      "cell_type": "markdown",
      "source": [
        "Ok, NBK muncul lagi dengan jumlah yang sama. Saya tidak akan menghapus datanya. Sesuai arahan klien, saya akan merubah menjai kategori Millennial"
      ],
      "metadata": {
        "id": "EvuCIi40vyqu"
      }
    },
    {
      "cell_type": "code",
      "source": [
        "# atas arahan klien, kategori NBK, dianggap bukan Millennial\n",
        "# ganti NBK menjadi Member\n",
        "df['generasi'] = df['generasi'].str.replace('NBK','Millennial')\n",
        "df['generasi'].unique()"
      ],
      "metadata": {
        "colab": {
          "base_uri": "https://localhost:8080/"
        },
        "id": "Bd9iFKKT4HjM",
        "outputId": "64a1afea-9f57-4925-eda2-ca25ac604044"
      },
      "execution_count": 125,
      "outputs": [
        {
          "output_type": "execute_result",
          "data": {
            "text/plain": [
              "array(['Gen X', 'Boomer', 'Silent', 'Gen Z', 'Millennial', 'Greatest'],\n",
              "      dtype=object)"
            ]
          },
          "metadata": {},
          "execution_count": 125
        }
      ]
    },
    {
      "cell_type": "markdown",
      "source": [
        "Ok, NBK sudah hilang dan masuk ke dalam kategori Millennial.\n",
        "\n",
        "Selanjutnya, saya butuh tahu komposisi jumlah member dari tiap generasi yang ada."
      ],
      "metadata": {
        "id": "i8kQV80iwLe8"
      }
    },
    {
      "cell_type": "code",
      "source": [
        "# perbandingan Member dan Non Member\n",
        "komposisi_generasi = df['generasi'].value_counts()\n",
        "desimal_generasi = komposisi_generasi / len(df)\n",
        "persentase_generasi = desimal_generasi.map(lambda x: f\"{x:.2%}\")\n",
        "print('Komposisi Jumlah generasi adalah:\\n', komposisi_generasi, '\\n\\nDalam persentase:\\n' , persentase_generasi)"
      ],
      "metadata": {
        "colab": {
          "base_uri": "https://localhost:8080/"
        },
        "id": "AqHfuwXYON1C",
        "outputId": "b856b36e-068f-4c8e-f149-741f9bbb5295"
      },
      "execution_count": 126,
      "outputs": [
        {
          "output_type": "stream",
          "name": "stdout",
          "text": [
            "Komposisi Jumlah generasi adalah:\n",
            " Boomer        16367\n",
            "Gen X         11088\n",
            "Millennial     4982\n",
            "Silent         1697\n",
            "Gen Z           827\n",
            "Greatest          2\n",
            "Name: generasi, dtype: int64 \n",
            "\n",
            "Dalam persentase:\n",
            " Boomer        46.81%\n",
            "Gen X         31.71%\n",
            "Millennial    14.25%\n",
            "Silent         4.85%\n",
            "Gen Z          2.37%\n",
            "Greatest       0.01%\n",
            "Name: generasi, dtype: object\n"
          ]
        }
      ]
    },
    {
      "cell_type": "markdown",
      "source": [
        "## Perhitungan kepuasan member berdasarkan generasi"
      ],
      "metadata": {
        "id": "YwwV5qJJP7kE"
      }
    },
    {
      "cell_type": "markdown",
      "source": [
        "enerasi boomer secara signifikan mendominasi, disusul oleh gen X. Itu artinya member dari klien saya mayoritas berumur di atas 40 tahun.\n",
        "\n",
        "Selanjutnya, saya akan bedah tiap tingkatan skor dan generasinya."
      ],
      "metadata": {
        "id": "BprHeD72wcei"
      }
    },
    {
      "cell_type": "code",
      "source": [
        "gen_sangat_puas = df.loc[df['membership'] == 'member'].loc[df['skor_kepuasan'] == 5].groupby('generasi')['skor_kepuasan'].count()\n",
        "a = gen_sangat_puas / sangat_puas\n",
        "gen_sangat_puas_percent = a.map(lambda x: f\"{x:.2%}\")\n",
        "\n",
        "gwn_puas = df.loc[df['membership'] == 'member'].loc[df['skor_kepuasan'] == 4].groupby('generasi')['skor_kepuasan'].count()\n",
        "a = gwn_puas / puas\n",
        "gwn_puas_percent = a.map(lambda x: f\"{x:.2%}\")\n",
        "\n",
        "gen_netral = df.loc[df['membership'] == 'member'].loc[df['skor_kepuasan'] == 3].groupby('generasi')['skor_kepuasan'].count()\n",
        "a = gen_netral / netral\n",
        "gen_netral_percent = a.map(lambda x: f\"{x:.2%}\")\n",
        "\n",
        "gen_tidak_puas = df.loc[df['membership'] == 'member'].loc[df['skor_kepuasan'] == 2].groupby('generasi')['skor_kepuasan'].count()\n",
        "a = gen_tidak_puas / tidak_puas\n",
        "gen_tidak_puas_percent = a.map(lambda x: f\"{x:.2%}\")\n",
        "\n",
        "gen_sangat_tidak_puas = df.loc[df['membership'] == 'member'].loc[df['skor_kepuasan'] == 1].groupby('generasi')['skor_kepuasan'].count()\n",
        "a = gen_sangat_tidak_puas / sangat_tidak_puas\n",
        "gen_sangat_tidak_puas_percent = a.map(lambda x: f\"{x:.2%}\")\n",
        "\n",
        "print(\n",
        "    'persentase generasi yang memberi skor 5:\\n',gen_sangat_puas_percent,\n",
        "    '\\n\\npersentase generasi yang memberi skor 4:\\n',gwn_puas_percent,\n",
        "    '\\n\\npersentase generasi yang memberi skor 3:\\n',gen_netral_percent,\n",
        "    '\\n\\npersentase generasi yang memberi skor 2:\\n',gen_tidak_puas_percent,\n",
        "    '\\n\\npersentase generasi yang memberi skor 1:\\n',gen_sangat_tidak_puas_percent)"
      ],
      "metadata": {
        "colab": {
          "base_uri": "https://localhost:8080/"
        },
        "id": "Qw0ErdXsei6B",
        "outputId": "b4837e4f-a65f-4d86-cd94-d33978063831"
      },
      "execution_count": 127,
      "outputs": [
        {
          "output_type": "stream",
          "name": "stdout",
          "text": [
            "persentase generasi yang memberi skor 5:\n",
            " generasi\n",
            "Boomer        48.92%\n",
            "Gen X         31.92%\n",
            "Gen Z          1.82%\n",
            "Millennial    12.40%\n",
            "Silent         4.94%\n",
            "Name: skor_kepuasan, dtype: object \n",
            "\n",
            "persentase generasi yang memberi skor 4:\n",
            " generasi\n",
            "Boomer        50.77%\n",
            "Gen X         30.86%\n",
            "Gen Z          1.47%\n",
            "Millennial    12.05%\n",
            "Silent         4.86%\n",
            "Name: skor_kepuasan, dtype: object \n",
            "\n",
            "persentase generasi yang memberi skor 3:\n",
            " generasi\n",
            "Boomer        50.03%\n",
            "Gen X         31.74%\n",
            "Gen Z          1.22%\n",
            "Millennial    11.42%\n",
            "Silent         5.59%\n",
            "Name: skor_kepuasan, dtype: object \n",
            "\n",
            "persentase generasi yang memberi skor 2:\n",
            " generasi\n",
            "Boomer        49.83%\n",
            "Gen X         32.08%\n",
            "Gen Z          1.35%\n",
            "Millennial    12.05%\n",
            "Silent         4.69%\n",
            "Name: skor_kepuasan, dtype: object \n",
            "\n",
            "persentase generasi yang memberi skor 1:\n",
            " generasi\n",
            "Boomer        47.15%\n",
            "Gen X         32.01%\n",
            "Gen Z          1.22%\n",
            "Greatest       0.03%\n",
            "Millennial    14.79%\n",
            "Silent         4.79%\n",
            "Name: skor_kepuasan, dtype: object\n"
          ]
        }
      ]
    },
    {
      "cell_type": "markdown",
      "source": [
        "Ternyata data ini cukup signifikan terdistribusi dengan normal. Urutan sampel terbesar mencerminkan persentase skor yang ada"
      ],
      "metadata": {
        "id": "ntTNU9ySxIcV"
      }
    },
    {
      "cell_type": "markdown",
      "source": [
        "## Central tendency skor kepuasan member berdasarkan generasi"
      ],
      "metadata": {
        "id": "v1uS3xygQCeK"
      }
    },
    {
      "cell_type": "markdown",
      "source": [
        "Saya akan cek lebih jauh dari central tendencynya"
      ],
      "metadata": {
        "id": "AU4Z9xcjxhhv"
      }
    },
    {
      "cell_type": "code",
      "source": [
        "df[df['membership'] == 'member'].groupby('generasi')['skor_kepuasan'].describe()"
      ],
      "metadata": {
        "colab": {
          "base_uri": "https://localhost:8080/",
          "height": 266
        },
        "id": "_ceIL-RWzmXq",
        "outputId": "43b1f3bd-7b83-484d-fbdd-cd714d32d63f"
      },
      "execution_count": 128,
      "outputs": [
        {
          "output_type": "execute_result",
          "data": {
            "text/plain": [
              "              count      mean       std  min  25%  50%  75%  max\n",
              "generasi                                                        \n",
              "Boomer      12572.0  2.861199  1.416821  1.0  2.0  3.0  4.0  5.0\n",
              "Gen X        8110.0  2.833046  1.429131  1.0  2.0  3.0  4.0  5.0\n",
              "Gen Z         359.0  3.025070  1.471113  1.0  2.0  3.0  4.0  5.0\n",
              "Greatest        2.0  1.000000  0.000000  1.0  1.0  1.0  1.0  1.0\n",
              "Millennial   3223.0  2.760782  1.459208  1.0  1.0  3.0  4.0  5.0\n",
              "Silent       1263.0  2.865400  1.414527  1.0  2.0  3.0  4.0  5.0"
            ],
            "text/html": [
              "\n",
              "  <div id=\"df-af3d49b3-2e0a-4a71-b8c7-96a30a127495\" class=\"colab-df-container\">\n",
              "    <div>\n",
              "<style scoped>\n",
              "    .dataframe tbody tr th:only-of-type {\n",
              "        vertical-align: middle;\n",
              "    }\n",
              "\n",
              "    .dataframe tbody tr th {\n",
              "        vertical-align: top;\n",
              "    }\n",
              "\n",
              "    .dataframe thead th {\n",
              "        text-align: right;\n",
              "    }\n",
              "</style>\n",
              "<table border=\"1\" class=\"dataframe\">\n",
              "  <thead>\n",
              "    <tr style=\"text-align: right;\">\n",
              "      <th></th>\n",
              "      <th>count</th>\n",
              "      <th>mean</th>\n",
              "      <th>std</th>\n",
              "      <th>min</th>\n",
              "      <th>25%</th>\n",
              "      <th>50%</th>\n",
              "      <th>75%</th>\n",
              "      <th>max</th>\n",
              "    </tr>\n",
              "    <tr>\n",
              "      <th>generasi</th>\n",
              "      <th></th>\n",
              "      <th></th>\n",
              "      <th></th>\n",
              "      <th></th>\n",
              "      <th></th>\n",
              "      <th></th>\n",
              "      <th></th>\n",
              "      <th></th>\n",
              "    </tr>\n",
              "  </thead>\n",
              "  <tbody>\n",
              "    <tr>\n",
              "      <th>Boomer</th>\n",
              "      <td>12572.0</td>\n",
              "      <td>2.861199</td>\n",
              "      <td>1.416821</td>\n",
              "      <td>1.0</td>\n",
              "      <td>2.0</td>\n",
              "      <td>3.0</td>\n",
              "      <td>4.0</td>\n",
              "      <td>5.0</td>\n",
              "    </tr>\n",
              "    <tr>\n",
              "      <th>Gen X</th>\n",
              "      <td>8110.0</td>\n",
              "      <td>2.833046</td>\n",
              "      <td>1.429131</td>\n",
              "      <td>1.0</td>\n",
              "      <td>2.0</td>\n",
              "      <td>3.0</td>\n",
              "      <td>4.0</td>\n",
              "      <td>5.0</td>\n",
              "    </tr>\n",
              "    <tr>\n",
              "      <th>Gen Z</th>\n",
              "      <td>359.0</td>\n",
              "      <td>3.025070</td>\n",
              "      <td>1.471113</td>\n",
              "      <td>1.0</td>\n",
              "      <td>2.0</td>\n",
              "      <td>3.0</td>\n",
              "      <td>4.0</td>\n",
              "      <td>5.0</td>\n",
              "    </tr>\n",
              "    <tr>\n",
              "      <th>Greatest</th>\n",
              "      <td>2.0</td>\n",
              "      <td>1.000000</td>\n",
              "      <td>0.000000</td>\n",
              "      <td>1.0</td>\n",
              "      <td>1.0</td>\n",
              "      <td>1.0</td>\n",
              "      <td>1.0</td>\n",
              "      <td>1.0</td>\n",
              "    </tr>\n",
              "    <tr>\n",
              "      <th>Millennial</th>\n",
              "      <td>3223.0</td>\n",
              "      <td>2.760782</td>\n",
              "      <td>1.459208</td>\n",
              "      <td>1.0</td>\n",
              "      <td>1.0</td>\n",
              "      <td>3.0</td>\n",
              "      <td>4.0</td>\n",
              "      <td>5.0</td>\n",
              "    </tr>\n",
              "    <tr>\n",
              "      <th>Silent</th>\n",
              "      <td>1263.0</td>\n",
              "      <td>2.865400</td>\n",
              "      <td>1.414527</td>\n",
              "      <td>1.0</td>\n",
              "      <td>2.0</td>\n",
              "      <td>3.0</td>\n",
              "      <td>4.0</td>\n",
              "      <td>5.0</td>\n",
              "    </tr>\n",
              "  </tbody>\n",
              "</table>\n",
              "</div>\n",
              "    <div class=\"colab-df-buttons\">\n",
              "\n",
              "  <div class=\"colab-df-container\">\n",
              "    <button class=\"colab-df-convert\" onclick=\"convertToInteractive('df-af3d49b3-2e0a-4a71-b8c7-96a30a127495')\"\n",
              "            title=\"Convert this dataframe to an interactive table.\"\n",
              "            style=\"display:none;\">\n",
              "\n",
              "  <svg xmlns=\"http://www.w3.org/2000/svg\" height=\"24px\" viewBox=\"0 -960 960 960\">\n",
              "    <path d=\"M120-120v-720h720v720H120Zm60-500h600v-160H180v160Zm220 220h160v-160H400v160Zm0 220h160v-160H400v160ZM180-400h160v-160H180v160Zm440 0h160v-160H620v160ZM180-180h160v-160H180v160Zm440 0h160v-160H620v160Z\"/>\n",
              "  </svg>\n",
              "    </button>\n",
              "\n",
              "  <style>\n",
              "    .colab-df-container {\n",
              "      display:flex;\n",
              "      gap: 12px;\n",
              "    }\n",
              "\n",
              "    .colab-df-convert {\n",
              "      background-color: #E8F0FE;\n",
              "      border: none;\n",
              "      border-radius: 50%;\n",
              "      cursor: pointer;\n",
              "      display: none;\n",
              "      fill: #1967D2;\n",
              "      height: 32px;\n",
              "      padding: 0 0 0 0;\n",
              "      width: 32px;\n",
              "    }\n",
              "\n",
              "    .colab-df-convert:hover {\n",
              "      background-color: #E2EBFA;\n",
              "      box-shadow: 0px 1px 2px rgba(60, 64, 67, 0.3), 0px 1px 3px 1px rgba(60, 64, 67, 0.15);\n",
              "      fill: #174EA6;\n",
              "    }\n",
              "\n",
              "    .colab-df-buttons div {\n",
              "      margin-bottom: 4px;\n",
              "    }\n",
              "\n",
              "    [theme=dark] .colab-df-convert {\n",
              "      background-color: #3B4455;\n",
              "      fill: #D2E3FC;\n",
              "    }\n",
              "\n",
              "    [theme=dark] .colab-df-convert:hover {\n",
              "      background-color: #434B5C;\n",
              "      box-shadow: 0px 1px 3px 1px rgba(0, 0, 0, 0.15);\n",
              "      filter: drop-shadow(0px 1px 2px rgba(0, 0, 0, 0.3));\n",
              "      fill: #FFFFFF;\n",
              "    }\n",
              "  </style>\n",
              "\n",
              "    <script>\n",
              "      const buttonEl =\n",
              "        document.querySelector('#df-af3d49b3-2e0a-4a71-b8c7-96a30a127495 button.colab-df-convert');\n",
              "      buttonEl.style.display =\n",
              "        google.colab.kernel.accessAllowed ? 'block' : 'none';\n",
              "\n",
              "      async function convertToInteractive(key) {\n",
              "        const element = document.querySelector('#df-af3d49b3-2e0a-4a71-b8c7-96a30a127495');\n",
              "        const dataTable =\n",
              "          await google.colab.kernel.invokeFunction('convertToInteractive',\n",
              "                                                    [key], {});\n",
              "        if (!dataTable) return;\n",
              "\n",
              "        const docLinkHtml = 'Like what you see? Visit the ' +\n",
              "          '<a target=\"_blank\" href=https://colab.research.google.com/notebooks/data_table.ipynb>data table notebook</a>'\n",
              "          + ' to learn more about interactive tables.';\n",
              "        element.innerHTML = '';\n",
              "        dataTable['output_type'] = 'display_data';\n",
              "        await google.colab.output.renderOutput(dataTable, element);\n",
              "        const docLink = document.createElement('div');\n",
              "        docLink.innerHTML = docLinkHtml;\n",
              "        element.appendChild(docLink);\n",
              "      }\n",
              "    </script>\n",
              "  </div>\n",
              "\n",
              "\n",
              "<div id=\"df-26f6251a-7cd4-474c-ab18-c819c97bd388\">\n",
              "  <button class=\"colab-df-quickchart\" onclick=\"quickchart('df-26f6251a-7cd4-474c-ab18-c819c97bd388')\"\n",
              "            title=\"Suggest charts\"\n",
              "            style=\"display:none;\">\n",
              "\n",
              "<svg xmlns=\"http://www.w3.org/2000/svg\" height=\"24px\"viewBox=\"0 0 24 24\"\n",
              "     width=\"24px\">\n",
              "    <g>\n",
              "        <path d=\"M19 3H5c-1.1 0-2 .9-2 2v14c0 1.1.9 2 2 2h14c1.1 0 2-.9 2-2V5c0-1.1-.9-2-2-2zM9 17H7v-7h2v7zm4 0h-2V7h2v10zm4 0h-2v-4h2v4z\"/>\n",
              "    </g>\n",
              "</svg>\n",
              "  </button>\n",
              "\n",
              "<style>\n",
              "  .colab-df-quickchart {\n",
              "      --bg-color: #E8F0FE;\n",
              "      --fill-color: #1967D2;\n",
              "      --hover-bg-color: #E2EBFA;\n",
              "      --hover-fill-color: #174EA6;\n",
              "      --disabled-fill-color: #AAA;\n",
              "      --disabled-bg-color: #DDD;\n",
              "  }\n",
              "\n",
              "  [theme=dark] .colab-df-quickchart {\n",
              "      --bg-color: #3B4455;\n",
              "      --fill-color: #D2E3FC;\n",
              "      --hover-bg-color: #434B5C;\n",
              "      --hover-fill-color: #FFFFFF;\n",
              "      --disabled-bg-color: #3B4455;\n",
              "      --disabled-fill-color: #666;\n",
              "  }\n",
              "\n",
              "  .colab-df-quickchart {\n",
              "    background-color: var(--bg-color);\n",
              "    border: none;\n",
              "    border-radius: 50%;\n",
              "    cursor: pointer;\n",
              "    display: none;\n",
              "    fill: var(--fill-color);\n",
              "    height: 32px;\n",
              "    padding: 0;\n",
              "    width: 32px;\n",
              "  }\n",
              "\n",
              "  .colab-df-quickchart:hover {\n",
              "    background-color: var(--hover-bg-color);\n",
              "    box-shadow: 0 1px 2px rgba(60, 64, 67, 0.3), 0 1px 3px 1px rgba(60, 64, 67, 0.15);\n",
              "    fill: var(--button-hover-fill-color);\n",
              "  }\n",
              "\n",
              "  .colab-df-quickchart-complete:disabled,\n",
              "  .colab-df-quickchart-complete:disabled:hover {\n",
              "    background-color: var(--disabled-bg-color);\n",
              "    fill: var(--disabled-fill-color);\n",
              "    box-shadow: none;\n",
              "  }\n",
              "\n",
              "  .colab-df-spinner {\n",
              "    border: 2px solid var(--fill-color);\n",
              "    border-color: transparent;\n",
              "    border-bottom-color: var(--fill-color);\n",
              "    animation:\n",
              "      spin 1s steps(1) infinite;\n",
              "  }\n",
              "\n",
              "  @keyframes spin {\n",
              "    0% {\n",
              "      border-color: transparent;\n",
              "      border-bottom-color: var(--fill-color);\n",
              "      border-left-color: var(--fill-color);\n",
              "    }\n",
              "    20% {\n",
              "      border-color: transparent;\n",
              "      border-left-color: var(--fill-color);\n",
              "      border-top-color: var(--fill-color);\n",
              "    }\n",
              "    30% {\n",
              "      border-color: transparent;\n",
              "      border-left-color: var(--fill-color);\n",
              "      border-top-color: var(--fill-color);\n",
              "      border-right-color: var(--fill-color);\n",
              "    }\n",
              "    40% {\n",
              "      border-color: transparent;\n",
              "      border-right-color: var(--fill-color);\n",
              "      border-top-color: var(--fill-color);\n",
              "    }\n",
              "    60% {\n",
              "      border-color: transparent;\n",
              "      border-right-color: var(--fill-color);\n",
              "    }\n",
              "    80% {\n",
              "      border-color: transparent;\n",
              "      border-right-color: var(--fill-color);\n",
              "      border-bottom-color: var(--fill-color);\n",
              "    }\n",
              "    90% {\n",
              "      border-color: transparent;\n",
              "      border-bottom-color: var(--fill-color);\n",
              "    }\n",
              "  }\n",
              "</style>\n",
              "\n",
              "  <script>\n",
              "    async function quickchart(key) {\n",
              "      const quickchartButtonEl =\n",
              "        document.querySelector('#' + key + ' button');\n",
              "      quickchartButtonEl.disabled = true;  // To prevent multiple clicks.\n",
              "      quickchartButtonEl.classList.add('colab-df-spinner');\n",
              "      try {\n",
              "        const charts = await google.colab.kernel.invokeFunction(\n",
              "            'suggestCharts', [key], {});\n",
              "      } catch (error) {\n",
              "        console.error('Error during call to suggestCharts:', error);\n",
              "      }\n",
              "      quickchartButtonEl.classList.remove('colab-df-spinner');\n",
              "      quickchartButtonEl.classList.add('colab-df-quickchart-complete');\n",
              "    }\n",
              "    (() => {\n",
              "      let quickchartButtonEl =\n",
              "        document.querySelector('#df-26f6251a-7cd4-474c-ab18-c819c97bd388 button');\n",
              "      quickchartButtonEl.style.display =\n",
              "        google.colab.kernel.accessAllowed ? 'block' : 'none';\n",
              "    })();\n",
              "  </script>\n",
              "</div>\n",
              "    </div>\n",
              "  </div>\n"
            ]
          },
          "metadata": {},
          "execution_count": 128
        }
      ]
    },
    {
      "cell_type": "markdown",
      "source": [
        "Terlihat rentang min - max begitupun median dan q1,13 tertitik dengan rapi. Artinya data ini distribusinya sangat normal"
      ],
      "metadata": {
        "id": "PY-ntlbBxlNi"
      }
    },
    {
      "cell_type": "markdown",
      "source": [
        "## Rata-rata skor kepuasan member berdasarkan generasi setiap harinya (September 2022)"
      ],
      "metadata": {
        "id": "Ce-0ScqaRKqT"
      }
    },
    {
      "cell_type": "markdown",
      "source": [
        "Saya akan cek lebih detail rata-rata skor setiap harinya pada bulan September berdasarkan generasi."
      ],
      "metadata": {
        "id": "aZn3TpSwx25D"
      }
    },
    {
      "cell_type": "code",
      "source": [
        "generasi_tanggal = df.groupby(['tanggal' , 'generasi'])\n",
        "avg_generasi_tanggal = generasi_tanggal['skor_kepuasan'].mean()\n",
        "avg_generasi_tanggal"
      ],
      "metadata": {
        "colab": {
          "base_uri": "https://localhost:8080/"
        },
        "id": "mC8gjcb18PJy",
        "outputId": "9d376f66-70e4-48ff-cbf3-bdd3238338b4"
      },
      "execution_count": 129,
      "outputs": [
        {
          "output_type": "execute_result",
          "data": {
            "text/plain": [
              "tanggal  generasi  \n",
              "1        Boomer        2.907563\n",
              "         Gen X         2.827128\n",
              "         Gen Z         3.375000\n",
              "         Greatest      1.000000\n",
              "         Millennial    2.528302\n",
              "                         ...   \n",
              "30       Boomer        3.020115\n",
              "         Gen X         2.945607\n",
              "         Gen Z         3.533333\n",
              "         Millennial    2.710000\n",
              "         Silent        3.031250\n",
              "Name: skor_kepuasan, Length: 152, dtype: float64"
            ]
          },
          "metadata": {},
          "execution_count": 129
        }
      ]
    },
    {
      "cell_type": "code",
      "source": [
        "avg_generasi_tanggal.unstack().plot(marker='o', figsize = (15,15))\n",
        "\n",
        "plt.title('Grafik Rata-Rata Skor Kepuasan Harian Member berdasarkan generasi ')\n",
        "plt.xlabel('Tanggal (November 2022)0')\n",
        "plt.ylabel('Skor Kepuasan')\n",
        "plt.legend(title='Generasi', loc='center left')\n",
        "plt.tight_layout()\n",
        "plt.show()"
      ],
      "metadata": {
        "colab": {
          "base_uri": "https://localhost:8080/",
          "height": 873
        },
        "id": "bq2N_rr0RcJf",
        "outputId": "dad1da04-ef66-472b-dcdc-7c93a6066291"
      },
      "execution_count": 130,
      "outputs": [
        {
          "output_type": "display_data",
          "data": {
            "text/plain": [
              "<Figure size 1500x1500 with 1 Axes>"
            ],
            "image/png": "[encoded data removed]"
          },
          "metadata": {}
        }
      ]
    },
    {
      "cell_type": "markdown",
      "source": [
        "Dari grafik di atas, saya tidak bisa simpulkan sebenarnya bahwa generasi ini berkaitan erat dengan skor kepuasan.\n",
        "\n",
        "*   List item\n",
        "*   List item\n",
        "\n"
      ],
      "metadata": {
        "id": "fFPhg0dLx_hv"
      }
    },
    {
      "cell_type": "markdown",
      "source": [
        "# Inferensial"
      ],
      "metadata": {
        "id": "uBXdxo6NUKfW"
      }
    },
    {
      "cell_type": "markdown",
      "source": [
        "## Pengaruh kepuasan member berdasarkan generasi terhadap skor kepuasan"
      ],
      "metadata": {
        "id": "OXRekklhysvt"
      }
    },
    {
      "cell_type": "markdown",
      "source": [
        "Tahap akhir dari analisis ini, saya akan menguji keterkaitan antara generasi dengan skor kepuasan.\n",
        "\n",
        "Kembali saya akan menggunakan Anova untuk menguji ini dengan hipotesa sebagai berikut:\n",
        "\n",
        "H0: Tidak ada perbedaan antara generasi dengan skor kepuasan member\n",
        "H1: Terdapat perbedaan diantaranya\n"
      ],
      "metadata": {
        "id": "LvtgXk5DyRst"
      }
    },
    {
      "cell_type": "code",
      "source": [
        "from scipy.stats import f_oneway\n",
        "\n",
        "anovatest_generasi = f_oneway(df['skor_kepuasan'][df['generasi'] == 'Silent'],\n",
        "                     df['skor_kepuasan'][df['generasi'] == 'Boomer'],\n",
        "                     df['skor_kepuasan'][df['generasi'] == 'Gen X'],\n",
        "                     df['skor_kepuasan'][df['generasi'] == 'Millennial'],\n",
        "                     df['skor_kepuasan'][df['generasi'] == 'Gen Z'],\n",
        "                     df['skor_kepuasan'][df['generasi'] == 'Greatest'])\n",
        "print(f\"Hasil uji ANOVA yang dijalankan adalah sebagai berikut:\\n\\nStatistik uji F: {anovatest_generasi.statistic}\\np-value: {anovatest_generasi.pvalue}\")\n",
        "\n",
        "alpha = 0.05\n",
        "if anovatest_generasi.pvalue < alpha:\n",
        "  print(\"Perbedaan itu ada sginifikan di antara 2 kategori tersebut (Tolak H0)\")\n",
        "else:\n",
        "  print(\"Tidak ada perbedaan signifikan (Terima H0)\")"
      ],
      "metadata": {
        "colab": {
          "base_uri": "https://localhost:8080/"
        },
        "id": "kom0K9XoZIvv",
        "outputId": "d02152ea-8a67-4ac5-aa64-d64d2188cf93"
      },
      "execution_count": 131,
      "outputs": [
        {
          "output_type": "stream",
          "name": "stdout",
          "text": [
            "Hasil uji ANOVA yang dijalankan adalah sebagai berikut:\n",
            "\n",
            "Statistik uji F: 5.620131160294129\n",
            "p-value: 3.494448756343984e-05\n",
            "Perbedaan itu ada sginifikan di antara 2 kategori tersebut (Tolak H0)\n"
          ]
        }
      ]
    },
    {
      "cell_type": "markdown",
      "source": [
        "Diketahui bahwa p-value jauh berada di bawah alpha sehingga Hipotesis 0 ditolak. Dengan katalain ada perbedaan yang sangat signifikan antara generasi dan kepuasan terhadap pelayanan F&B"
      ],
      "metadata": {
        "id": "4-gTh-co97LZ"
      }
    },
    {
      "cell_type": "markdown",
      "source": [
        "# Kesimpulan\n",
        "\n",
        "Dari data-data tersebut di atas, saya bisa secara percaya diri menyimpulkan bahwa tidak ada pengaruh eksternal terhadap skor penilaian member.\n",
        "\n",
        "\n",
        "Saya sudah membuktikan hubungannya dengan kategori jarak dan generasi, mungkin perjalanan jauh menghasilkan skor penilaian yang buruk, ternyata tidak. Atau mungkin semakin *mature* sesorang semakin jelek penilainnya, ternyata juga tidak.\n",
        "\n",
        "\n",
        "Saya akan kembalikan ke klien untuk sama-sama kita melakukakn investigasi di tahap selanjutnya.\n",
        "\n",
        "Sebelumnya, saya akan save terlebih dahulu output hasil olah data ini untuk divisualisasikan menggunakan Tableau"
      ],
      "metadata": {
        "id": "vEdyTMqgzL7b"
      }
    },
    {
      "cell_type": "code",
      "source": [
        "df.to_csv('output.csv')"
      ],
      "metadata": {
        "id": "TTTUzodZBaJx"
      },
      "execution_count": 132,
      "outputs": []
    }
  ]
}