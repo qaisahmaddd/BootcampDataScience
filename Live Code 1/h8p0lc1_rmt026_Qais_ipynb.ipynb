{
  "nbformat": 4,
  "nbformat_minor": 0,
  "metadata": {
    "colab": {
      "provenance": [],
      "toc_visible": true
    },
    "kernelspec": {
      "name": "python3",
      "display_name": "Python 3"
    },
    "language_info": {
      "name": "python"
    }
  },
  "cells": [
    {
      "cell_type": "markdown",
      "source": [
        "# PERKENALAN"
      ],
      "metadata": {
        "id": "zGFGpO4SkbKH"
      }
    },
    {
      "cell_type": "markdown",
      "source": [
        "=================================================\n",
        "Live Code 1\n",
        "\n",
        "Nama  : Ahmad Qais Alfiansyah\n",
        "Batch : RMT-026\n",
        "\n",
        "\n",
        "=================================================\n",
        "Program ini dibuat untuk menghitung total pengeluaran perusahaan dengan menghitung gaji per jabatan + gaji lemburan jika lebih dari 40 jam bekerja\n"
      ],
      "metadata": {
        "id": "URBxW7rQkiO7"
      }
    },
    {
      "cell_type": "markdown",
      "source": [
        "\"manager\""
      ],
      "metadata": {
        "id": "kLcLtXHwpUCR"
      }
    },
    {
      "cell_type": "code",
      "source": [
        "# Hitung penghasilan dimana gaji berdasarkan jabatan akan tambahkan dengan perkalian jam lembur dengan gaji lemburan\n",
        "\n",
        "def hitung_penghasilan(jenis_pekerjaan, jam_kerja):\n",
        "  gaji = {\n",
        "      \"Manager\": 10000000,\n",
        "      \"Staf\" : 5000000,\n",
        "      \"Kasir\" : 4000000\n",
        "  }\n",
        "\n",
        "  lembur = 20000\n",
        "  if jam_kerja > 40:\n",
        "    gaji_lembur = (jam_kerja - 40) * 20000\n",
        "    total_gaji = gaji[jenis_pekerjaan] + gaji_lembur\n",
        "  else:\n",
        "    total_gaji = gaji[jenis_pekerjaan]\n",
        "  return total_gaji\n",
        "\n",
        "\n",
        "# input:\n",
        "Karyawan_1a = hitung_penghasilan(\"Manager\", 45)\n",
        "Karyawan_1b = hitung_penghasilan(\"Staf\", 35)\n",
        "Karyawan_1c = hitung_penghasilan(\"Kasir\", 50)\n",
        "\n",
        "Karyawan_2a = hitung_penghasilan(\"Manager\", 50)\n",
        "Karyawan_2b = hitung_penghasilan(\"Staf\", 50)\n",
        "Karyawan_2c = hitung_penghasilan(\"Kasir\", 50)\n",
        "\n",
        "Daftar_Karyawan1 = Karyawan_1a + Karyawan_1b + Karyawan_1c\n",
        "Daftar_Karyawan2 = Karyawan_2a + Karyawan_2b + Karyawan_2c\n",
        "\n",
        "Pengeluaran_Bulanan = Daftar_Karyawan1 + Daftar_Karyawan1\n",
        "\n",
        "print(Pengeluaran_Bulanan)\n",
        "\n"
      ],
      "metadata": {
        "colab": {
          "base_uri": "https://localhost:8080/"
        },
        "id": "3CM2cqa_ovyJ",
        "outputId": "6e83d8cd-fa1e-46d9-9ddd-ab3d30e3785b"
      },
      "execution_count": 44,
      "outputs": [
        {
          "output_type": "stream",
          "name": "stdout",
          "text": [
            "38600000\n"
          ]
        }
      ]
    },
    {
      "cell_type": "markdown",
      "source": [
        "OK KITA TULIS DULU:\n",
        "\n",
        "input akhir yang\n",
        "\n",
        "Fungsi tota_pengeluaran sesuai jam kerja:\n",
        "fungsi hitung_p[enghasilan =\n",
        "d"
      ],
      "metadata": {
        "id": "S4CUlDe1sykw"
      }
    }
  ]
}