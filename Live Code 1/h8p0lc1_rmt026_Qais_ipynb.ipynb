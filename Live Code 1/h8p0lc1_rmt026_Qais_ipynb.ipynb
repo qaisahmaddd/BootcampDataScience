{
  "cells": [
    {
      "cell_type": "markdown",
      "metadata": {
        "id": "zGFGpO4SkbKH"
      },
      "source": [
        "# PERKENALAN"
      ]
    },
    {
      "cell_type": "markdown",
      "metadata": {
        "id": "URBxW7rQkiO7"
      },
      "source": [
        "=================================================  \n",
        "Live Code 1  \n",
        "\n",
        "Nama  : Ahmad Qais Alfiansyah  \n",
        "Batch : RMT-026  \n",
        "\n",
        "=================================================  \n",
        "Program ini dibuat untuk menghitung total pengeluaran perusahaan dengan menghitung gaji per jabatan + gaji lemburan jika lebih dari 40 jam bekerja\n"
      ]
    },
    {
      "cell_type": "code",
      "execution_count": 12,
      "metadata": {
        "colab": {
          "base_uri": "https://localhost:8080/"
        },
        "id": "3CM2cqa_ovyJ",
        "outputId": "6e83d8cd-fa1e-46d9-9ddd-ab3d30e3785b"
      },
      "outputs": [
        {
          "name": "stdout",
          "output_type": "stream",
          "text": [
            "Gaji Mirna: 10100000\n",
            "Gaji Slamet: 5000000\n",
            "Gaji Priyo: 4200000\n",
            "Gaji Ajeng: 10200000\n",
            "Gaji Ayu: 5200000\n",
            "Gaji Nurman: 4200000\n",
            "Total Gaji karyawan adalah 38900000\n"
          ]
        }
      ],
      "source": [
        "# Hitung penghasilan dimana gaji berdasarkan jabatan akan tambahkan dengan perkalian jam lembur dengan gaji lemburan\n",
        "\n",
        "def hitung_penghasilan(jenis_pekerjaan, jam_kerja):\n",
        "  gaji = {\n",
        "      \"Manager\": 10000000,\n",
        "      \"Staf\" : 5000000,\n",
        "      \"Kasir\" : 4000000\n",
        "  }\n",
        "\n",
        "  lembur = 20000\n",
        "  if jam_kerja > 40:\n",
        "    gaji_lembur = (jam_kerja - 40) * 20000\n",
        "    total_gaji = gaji[jenis_pekerjaan] + gaji_lembur\n",
        "  else:\n",
        "    total_gaji = gaji[jenis_pekerjaan]\n",
        "  return total_gaji\n",
        "\n",
        "# input:\n",
        "list_karyawan= {\n",
        "\"Mirna\": [\"Manager\", 45],\n",
        "\"Slamet\": [\"Staf\", 35],\n",
        "\"Priyo\": [\"Kasir\", 50],\n",
        "\"Ajeng\": [\"Manager\", 50],\n",
        "\"Ayu\": [\"Staf\", 50],\n",
        "\"Nurman\": [\"Kasir\", 50]\n",
        "}\n",
        "\n",
        "total_gaji_karyawan= 0\n",
        "for nama, data in list_karyawan.items():\n",
        "  gaji= hitung_penghasilan(data[0], data[1])\n",
        "  total_gaji_karyawan += gaji\n",
        "  print(f\"Gaji {nama}: {gaji}\")\n",
        "\n",
        "print(\"Total Gaji karyawan adalah\", total_gaji_karyawan)"
      ]
    },
    {
      "cell_type": "code",
      "execution_count": 16,
      "metadata": {},
      "outputs": [
        {
          "name": "stdout",
          "output_type": "stream",
          "text": [
            "Gaji Qais (Manager): 10200000\n"
          ]
        }
      ],
      "source": [
        "nama_karyawan = input(\"Masukkan nama karyawan: \")\n",
        "jabatan = input(\"Masukkan jabatan: \")\n",
        "jam = int(input(\"Masukkan jam kerja: \"))\n",
        "gaji_karyawan= hitung_penghasilan(jabatan, jam)\n",
        "print(f\"Gaji {nama_karyawan} ({jabatan}): {gaji_karyawan}\")\n"
      ]
    }
  ],
  "metadata": {
    "colab": {
      "provenance": [],
      "toc_visible": true
    },
    "kernelspec": {
      "display_name": "Python 3",
      "name": "python3"
    },
    "language_info": {
      "codemirror_mode": {
        "name": "ipython",
        "version": 3
      },
      "file_extension": ".py",
      "mimetype": "text/x-python",
      "name": "python",
      "nbconvert_exporter": "python",
      "pygments_lexer": "ipython3",
      "version": "3.9.18"
    }
  },
  "nbformat": 4,
  "nbformat_minor": 0
}
